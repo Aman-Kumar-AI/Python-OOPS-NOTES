{
 "cells": [
  {
   "cell_type": "markdown",
   "id": "24ceda25-7f0e-4f00-83e3-f88865e53a6a",
   "metadata": {},
   "source": [
    "## Constructor:"
   ]
  },
  {
   "cell_type": "markdown",
   "id": "9b888068-8183-47df-b15d-974b006a1cbb",
   "metadata": {},
   "source": [
    "### 1. What is a constructor in Python? Explain its purpose and usage."
   ]
  },
  {
   "cell_type": "markdown",
   "id": "39dc3a1b-e2b5-4f65-a949-7f58985ee86c",
   "metadata": {},
   "source": [
    "A constructor in Python is a special method that is automatically called when an object of a class is created. It is used to initialize the attributes of the object and perform any necessary setup. In Python, the constructor method is named __init__."
   ]
  },
  {
   "cell_type": "markdown",
   "id": "d126d94b-28ee-4236-b75f-9cf04c658039",
   "metadata": {},
   "source": [
    "### 2. Differentiate between a parameterless constructor and a parameterized constructor in Python."
   ]
  },
  {
   "cell_type": "markdown",
   "id": "760b34f4-f604-4b13-8aee-8fd29ed0d886",
   "metadata": {
    "tags": []
   },
   "source": [
    "1.A parameterless constructor takes no parameters.\n",
    "2.A parameterized constructor takes one or more parameters, allowing you to pass values during object creation."
   ]
  },
  {
   "cell_type": "markdown",
   "id": "0b20e1ef-15ad-4bf0-bc40-cc2f5df37d5a",
   "metadata": {},
   "source": [
    "### 3. How do you define a constructor in a Python class? Provide an example.To define a constructor in a Python class, you use the __init__ method. Here's an example:"
   ]
  },
  {
   "cell_type": "code",
   "execution_count": 28,
   "id": "087a2559-5e3d-4e0d-af05-8bed7e81c740",
   "metadata": {},
   "outputs": [],
   "source": [
    "#To define a constructor in a Python class, you use the __init__ method. Here's an example:\n",
    "class MyClass:\n",
    "    def __init__(self, parameter1, parameter2):\n",
    "        self.attribute1 = parameter1\n",
    "        self.attribute2 = parameter2"
   ]
  },
  {
   "cell_type": "markdown",
   "id": "dbfca747-f365-4082-8c03-ff1dc2076d9b",
   "metadata": {},
   "source": [
    "### 4. Explain the `__init__` method in Python and its role in constructors."
   ]
  },
  {
   "cell_type": "markdown",
   "id": "91ff650c-1550-4883-b46b-eaa8435a7c33",
   "metadata": {
    "tags": []
   },
   "source": [
    "The __init__ method is a special method in Python classes that is automatically called when an object is created. It initializes the object's attributes. It is commonly used as a constructor."
   ]
  },
  {
   "cell_type": "markdown",
   "id": "f3910a56-9fb5-48c2-be13-024baa22365e",
   "metadata": {},
   "source": [
    "### 5. In a class named `Person`, create a constructor that initializes the `name` and `age` attributes. Provide an example of creating an object of this class."
   ]
  },
  {
   "cell_type": "code",
   "execution_count": 29,
   "id": "c74aab91-b42f-4a8e-a12c-61a8292ee774",
   "metadata": {},
   "outputs": [],
   "source": [
    "class Person:\n",
    "    def __init__(self, name, age):\n",
    "        self.name = name\n",
    "        self.age = age\n",
    "\n",
    "# Creating an object of the Person class\n",
    "person1 = Person(\"Aman\", 25)"
   ]
  },
  {
   "cell_type": "markdown",
   "id": "b5291dc0-7326-47ae-8375-9928cfefe122",
   "metadata": {},
   "source": [
    "### 6. How can you call a constructor explicitly in Python? Give an example."
   ]
  },
  {
   "cell_type": "code",
   "execution_count": 46,
   "id": "4293584f-7a17-4a0a-a0cb-1e51f4ab61ee",
   "metadata": {},
   "outputs": [
    {
     "data": {
      "text/plain": [
       "'Aman'"
      ]
     },
     "execution_count": 46,
     "metadata": {},
     "output_type": "execute_result"
    }
   ],
   "source": [
    "class MyClass:\n",
    "    def __init__(self, p1,p2):\n",
    "        self.p1=p1\n",
    "        self.p2=p2\n",
    "\n",
    "obj = MyClass(\"Shree\",\"Ram\")\n",
    "MyClass.__init__(obj,\"Aman\", \"Kumar\")  # Explicitly calling the constructor\n",
    "obj.p1"
   ]
  },
  {
   "cell_type": "markdown",
   "id": "e327daf9-5832-46da-8190-85a9c09795df",
   "metadata": {},
   "source": [
    "### 7. What is the significance of the `self` parameter in Python constructors? Explain with an example."
   ]
  },
  {
   "cell_type": "markdown",
   "id": "7c5b0d92-0011-4b5e-ab70-ee4df0fea4a1",
   "metadata": {
    "tags": []
   },
   "source": [
    "The self parameter refers to the instance of the class and is used to access and modify instance variables. It is required in every method, including the constructor."
   ]
  },
  {
   "cell_type": "markdown",
   "id": "3dc7e8a3-9000-4905-90d8-f4f49b97fbca",
   "metadata": {},
   "source": [
    "### 8. Discuss the concept of default constructors in Python. When are they used?"
   ]
  },
  {
   "cell_type": "markdown",
   "id": "97bd6055-aea5-4d96-b671-da5609324ac8",
   "metadata": {
    "tags": []
   },
   "source": [
    "In Python, if you don't define a constructor, a default constructor is automatically provided. It initializes the object but doesn't perform any additional actions."
   ]
  },
  {
   "cell_type": "markdown",
   "id": "abe202be-0a4b-42cc-aee5-809660c68e8b",
   "metadata": {},
   "source": [
    "### 9. Create a Python class called `Rectangle` with a constructor that initializes the `width` and `height` attributes. Provide a method to calculate the area of the rectangle."
   ]
  },
  {
   "cell_type": "code",
   "execution_count": 53,
   "id": "2f1fb830-4a36-49b2-bc9a-862f5aee6623",
   "metadata": {},
   "outputs": [
    {
     "name": "stdout",
     "output_type": "stream",
     "text": [
      "207\n"
     ]
    }
   ],
   "source": [
    "class Rectangle:\n",
    "    def __init__(self, width,height):\n",
    "        self.width=width\n",
    "        self.height=height\n",
    "    def area(self):\n",
    "        return self.width*self.height\n",
    "rec=Rectangle(23,9)\n",
    "print(rec.area())"
   ]
  },
  {
   "cell_type": "markdown",
   "id": "67d76f4d-bd7c-4abc-854d-db6b731acb3f",
   "metadata": {},
   "source": [
    "### 10. How can you have multiple constructors in a Python class? Explain with an example."
   ]
  },
  {
   "cell_type": "markdown",
   "id": "0ec66bf9-fef8-4c26-9566-6a818dd797ce",
   "metadata": {
    "tags": []
   },
   "source": [
    "Python doesn't support multiple constructors with different parameter lists like some other languages. However, you can use default values to achieve similar effects."
   ]
  },
  {
   "cell_type": "markdown",
   "id": "79de927f-ec73-426b-8358-52ff4a0238a7",
   "metadata": {},
   "source": [
    "### 11. What is method overloading, and how is it related to constructors in Python?"
   ]
  },
  {
   "cell_type": "markdown",
   "id": "03bab134-8273-47c8-8eb6-d4aeef259b2b",
   "metadata": {
    "tags": []
   },
   "source": [
    "Python does not support method overloading in the traditional sense (different methods with the same name but different parameters). However, you can achieve similar behavior using default parameter values."
   ]
  },
  {
   "cell_type": "markdown",
   "id": "db046561-f474-4620-a786-8020924bd2f1",
   "metadata": {},
   "source": [
    "### 12. Explain the use of the `super()` function in Python constructors. Provide an example."
   ]
  },
  {
   "cell_type": "code",
   "execution_count": 58,
   "id": "a75cb8a0-388a-4436-b5ef-fa86c3367968",
   "metadata": {},
   "outputs": [
    {
     "name": "stdout",
     "output_type": "stream",
     "text": [
      "Woof!\n",
      "Meow!\n"
     ]
    }
   ],
   "source": [
    "#The super() function is used to call a method from the parent class. In the context of constructors, it is often used to call the constructor of the parent class.\n",
    "class Animal:\n",
    "    def __init__(self, species):\n",
    "        self.species = species\n",
    "\n",
    "    def make_sound(self):\n",
    "        print(\"Generic animal sound\")\n",
    "\n",
    "class Dog(Animal):\n",
    "    def __init__(self, species, breed):\n",
    "        super().__init__(species)\n",
    "        self.breed = breed\n",
    "\n",
    "    def make_sound(self):\n",
    "        print(\"Woof!\")\n",
    "\n",
    "class Cat(Animal):\n",
    "    def __init__(self, species, color):\n",
    "        super().__init__(species)\n",
    "        self.color = color\n",
    "\n",
    "    def make_sound(self):\n",
    "        print(\"Meow!\")\n",
    "\n",
    "dog_instance = Dog(\"Dog\", \"Golden Retriever\")\n",
    "cat_instance = Cat(\"Cat\", \"Black\")\n",
    "\n",
    "dog_instance.make_sound()\n",
    "cat_instance.make_sound()"
   ]
  },
  {
   "cell_type": "markdown",
   "id": "84bb5cf3-9154-47e0-bbd2-340cc9cbe48d",
   "metadata": {},
   "source": [
    "### 13. Create a class called `Book` with a constructor that initializes the `title`, `author`, and `published_year` attributes. Provide a method to display book details."
   ]
  },
  {
   "cell_type": "code",
   "execution_count": 59,
   "id": "0557d3e1-f9f3-4b51-8878-d937976f2a86",
   "metadata": {},
   "outputs": [
    {
     "name": "stdout",
     "output_type": "stream",
     "text": [
      "Title: Python Programming, Author: Guido van Rossum, Year: 2020\n"
     ]
    }
   ],
   "source": [
    "class Book:\n",
    "    def __init__(self, title, author, published_year):\n",
    "        self.title = title\n",
    "        self.author = author\n",
    "        self.published_year = published_year\n",
    "\n",
    "    def display_details(self):\n",
    "        print(f\"Title: {self.title}, Author: {self.author}, Year: {self.published_year}\")\n",
    "\n",
    "book1 = Book(\"Python Programming\", \"Aman Kumar\", 2020)\n",
    "book1.display_details()\n"
   ]
  },
  {
   "cell_type": "markdown",
   "id": "111ff2ef-7afb-40d9-aa92-cefde7ce5e2d",
   "metadata": {},
   "source": [
    "### 14. Discuss the differences between constructors and regular methods in Python classes."
   ]
  },
  {
   "cell_type": "code",
   "execution_count": 61,
   "id": "65f8ec2c-b16c-4114-b3a3-72a7a20715a6",
   "metadata": {},
   "outputs": [],
   "source": [
    "#Constructors are called automatically when an object is created.\n",
    "#Regular methods need to be called explicitly on an object."
   ]
  },
  {
   "cell_type": "markdown",
   "id": "fac5560c-f35b-4b26-b8f0-9c13f64d42f1",
   "metadata": {},
   "source": [
    "### 15. Explain the role of the `self` parameter in instance variable initialization within a constructor."
   ]
  },
  {
   "cell_type": "code",
   "execution_count": 62,
   "id": "d6389ab1-f07f-4a32-8d52-ebaef13dfd64",
   "metadata": {},
   "outputs": [],
   "source": [
    "#The self parameter is used to refer to the instance of the class. Within the constructor, self is used to initialize instance variables."
   ]
  },
  {
   "cell_type": "markdown",
   "id": "14a046cd-c752-4345-ba1d-7e43e98fd6e9",
   "metadata": {},
   "source": [
    "### 16. How do you prevent a class from having multiple instances by using constructors in Python? Provide an example."
   ]
  },
  {
   "cell_type": "code",
   "execution_count": 69,
   "id": "bf8129a1-a062-4429-8cf5-710f8ecc0ab2",
   "metadata": {},
   "outputs": [],
   "source": [
    "#we can prevent multiple instances by using a class variable to track whether an instance has been created before:\n",
    "class Singleton:\n",
    "    _instance = None\n",
    "\n",
    "    def __new__(cls):\n",
    "        if cls._instance is None:\n",
    "            cls._instance = super().__new__(cls)\n",
    "        return cls._instance"
   ]
  },
  {
   "cell_type": "markdown",
   "id": "bf397e37-6a62-412e-ba48-3ee537251c8a",
   "metadata": {},
   "source": [
    "### 17. Create a Python class called `Student` with a constructor that takes a list of subjects as a parameter and initializes the `subjects` attribute."
   ]
  },
  {
   "cell_type": "code",
   "execution_count": 64,
   "id": "d32fa8f7-6d79-4c48-8c0d-d4225decfe96",
   "metadata": {},
   "outputs": [],
   "source": [
    "class Student:\n",
    "    def __init__(self, subjects):\n",
    "        self.subjects = subjects\n",
    "\n",
    "student1 = Student([\"Math\", \"Science\", \"History\"])"
   ]
  },
  {
   "cell_type": "markdown",
   "id": "7153dd61-33ca-4419-98e7-bc444f8fc2b0",
   "metadata": {},
   "source": [
    "### 18. What is the purpose of the `__del__` method in Python classes, and how does it relate to constructors?"
   ]
  },
  {
   "cell_type": "markdown",
   "id": "4d9a51aa-f820-490a-8139-fc7f0418e3ef",
   "metadata": {
    "tags": []
   },
   "source": [
    "##### The __del__ method is called when an object is about to be destroyed. It is used for cleanup activities. It is not directly related to constructors but serves as a counterpart."
   ]
  },
  {
   "cell_type": "markdown",
   "id": "d639f950-ac02-46ae-b384-edba845708a8",
   "metadata": {},
   "source": [
    "### 19. Explain the use of constructor chaining in Python. Provide a practical example."
   ]
  },
  {
   "cell_type": "code",
   "execution_count": 67,
   "id": "9dcc67a6-feda-4cca-99e0-3649acc926a6",
   "metadata": {},
   "outputs": [],
   "source": [
    "#Constructor chaining refers to calling one constructor from another within the same class using self. It allows you to reuse code. Example:\n",
    "\n",
    "class MyClass:\n",
    "    def __init__(self, parameter1):\n",
    "        self.attribute1 = parameter1\n",
    "        self.attribute2 = None\n",
    "        self.init_method()\n",
    "\n",
    "    def init_method(self):\n",
    "        # Additional initialization code\n",
    "        self.attribute2 = \"initialized\""
   ]
  },
  {
   "cell_type": "markdown",
   "id": "6f76704b-71d1-4ba2-a5be-8f841c879449",
   "metadata": {
    "tags": []
   },
   "source": [
    "### 20. Create a Python class called `Car` with a default constructor that initializes the `make` and `model` attributes. Provide a method to display car information."
   ]
  },
  {
   "cell_type": "code",
   "execution_count": 68,
   "id": "f20f8375-53d1-44a3-9199-ae1025d0b5f1",
   "metadata": {},
   "outputs": [
    {
     "name": "stdout",
     "output_type": "stream",
     "text": [
      "Car: Toyota Camry\n"
     ]
    }
   ],
   "source": [
    "class Car:\n",
    "    def __init__(self, make, model):\n",
    "        self.make = make\n",
    "        self.model = model\n",
    "\n",
    "    def display_info(self):\n",
    "        print(f\"Car: {self.make} {self.model}\")\n",
    "\n",
    "# Creating an object of the Car class\n",
    "car1 = Car(\"Toyota\", \"Camry\")\n",
    "car1.display_info()"
   ]
  },
  {
   "cell_type": "markdown",
   "id": "a2cd169f-9919-4c5f-9781-96cabe5aec9f",
   "metadata": {
    "tags": []
   },
   "source": [
    "## Inheritance:"
   ]
  },
  {
   "cell_type": "markdown",
   "id": "6863341d-7a39-40ed-8918-56816739953d",
   "metadata": {},
   "source": [
    "### 1. What is inheritance in Python? Explain its significance in object-oriented programming."
   ]
  },
  {
   "cell_type": "markdown",
   "id": "11e03f02-8ca7-456e-8a2e-f9768a8692ab",
   "metadata": {
    "tags": []
   },
   "source": [
    "##### Inheritance is a fundamental concept in object-oriented programming (OOP) that allows a new class (subclass or derived class) to inherit attributes and methods from an existing class (base class or parent class). It promotes code reuse and establishes a relationship between classes."
   ]
  },
  {
   "cell_type": "markdown",
   "id": "829fdfc9-537b-4a53-98b4-7bb78523787c",
   "metadata": {},
   "source": [
    "### 2. Differentiate between single inheritance and multiple inheritance in Python. Provide examples for each."
   ]
  },
  {
   "cell_type": "markdown",
   "id": "1b996da0-6c36-41ff-b46d-33d30f6212f0",
   "metadata": {},
   "source": [
    "#### Single inheritance"
   ]
  },
  {
   "cell_type": "code",
   "execution_count": 23,
   "id": "e45ded10-777c-447f-b538-e73387ac0583",
   "metadata": {},
   "outputs": [
    {
     "name": "stdout",
     "output_type": "stream",
     "text": [
      "Animal speaks\n",
      "Dog barks\n"
     ]
    }
   ],
   "source": [
    "class Animal:\n",
    "    def speak(self):\n",
    "        print(\"Animal speaks\")\n",
    "\n",
    "class Dog(Animal):\n",
    "    def bark(self):\n",
    "        print(\"Dog barks\")\n",
    "\n",
    "# Usage\n",
    "dog = Dog()\n",
    "dog.speak()  # Inherited from Animal\n",
    "dog.bark()   # Dog's own method"
   ]
  },
  {
   "cell_type": "markdown",
   "id": "4ecd625d-383c-46a1-bd1e-fd990332fcf1",
   "metadata": {},
   "source": [
    "#### multiple inheritance"
   ]
  },
  {
   "cell_type": "code",
   "execution_count": 24,
   "id": "e64bc1d6-0821-4169-b71f-e124a1a0f550",
   "metadata": {},
   "outputs": [
    {
     "name": "stdout",
     "output_type": "stream",
     "text": [
      "Method A\n",
      "Method B\n",
      "Method C\n"
     ]
    }
   ],
   "source": [
    "class A:\n",
    "    def method_A(self):\n",
    "        print(\"Method A\")\n",
    "\n",
    "class B:\n",
    "    def method_B(self):\n",
    "        print(\"Method B\")\n",
    "\n",
    "class C(A, B): \n",
    "    def method_C(self):\n",
    "        print(\"Method C\")\n",
    "\n",
    "obj_C = C()\n",
    "obj_C.method_A()  \n",
    "obj_C.method_B() \n",
    "obj_C.method_C() "
   ]
  },
  {
   "cell_type": "markdown",
   "id": "caa1d5c4-7f30-4ec4-b346-ac70e90f5509",
   "metadata": {},
   "source": [
    "### 3. Create a Python class called `Vehicle` with attributes `color` and `speed`. Then, create a child class called `Car` that inherits from `Vehicle` and adds a `brand` attribute. Provide an example of creating a `Car` object."
   ]
  },
  {
   "cell_type": "code",
   "execution_count": 25,
   "id": "6139a7fd-5909-4e51-af00-b2104b9acc7b",
   "metadata": {},
   "outputs": [],
   "source": [
    "class Vehicle:\n",
    "    def __init__(self, color, speed):\n",
    "        self.color = color\n",
    "        self.speed = speed\n",
    "\n",
    "class Car(Vehicle):\n",
    "    def __init__(self, color, speed, brand):\n",
    "        super().__init__(color, speed)\n",
    "        self.brand = brand\n",
    "\n",
    "\n",
    "car = Car(\"Red\", 60, \"Toyota\")"
   ]
  },
  {
   "cell_type": "markdown",
   "id": "82de86f0-52c9-4679-8dbc-21e4cc5fc0c7",
   "metadata": {},
   "source": [
    "### 4. Explain the concept of method overriding in inheritance. Provide a practical example."
   ]
  },
  {
   "cell_type": "code",
   "execution_count": 26,
   "id": "2e221f6a-2302-408a-b6b1-389c0bf19138",
   "metadata": {},
   "outputs": [
    {
     "name": "stdout",
     "output_type": "stream",
     "text": [
      "Dog barks\n"
     ]
    }
   ],
   "source": [
    "class Animal:\n",
    "    def speak(self):\n",
    "        print(\"Animal speaks\")\n",
    "\n",
    "class Dog(Animal):\n",
    "    def speak(self): \n",
    "        print(\"Dog barks\")\n",
    "\n",
    "# Example\n",
    "dog = Dog()\n",
    "dog.speak()  "
   ]
  },
  {
   "cell_type": "markdown",
   "id": "632e239d-6acc-45d0-88d6-e4b38490aa4d",
   "metadata": {},
   "source": [
    "### 5. How can you access the methods and attributes of a parent class from a child class in Python? Give an example."
   ]
  },
  {
   "cell_type": "code",
   "execution_count": 27,
   "id": "ea3079c4-5ce2-4aec-bba9-3b6def683042",
   "metadata": {},
   "outputs": [
    {
     "name": "stdout",
     "output_type": "stream",
     "text": [
      "Parent method\n",
      "Child method\n"
     ]
    }
   ],
   "source": [
    "class Parent:\n",
    "    def method(self):\n",
    "        print(\"Parent method\")\n",
    "\n",
    "class Child(Parent):\n",
    "    def child_method(self):\n",
    "        super().method() \n",
    "        print(\"Child method\")\n",
    "\n",
    "\n",
    "child = Child()\n",
    "child.child_method()"
   ]
  },
  {
   "cell_type": "markdown",
   "id": "8e664815-92cc-491a-aa11-dc16ed0b775a",
   "metadata": {},
   "source": [
    "### 6. Discuss the use of the `super()` function in Python inheritance. When and why is it used? Provide an example."
   ]
  },
  {
   "cell_type": "code",
   "execution_count": 28,
   "id": "70828412-6f31-4feb-8e7c-2ca7e2bd4df1",
   "metadata": {},
   "outputs": [
    {
     "name": "stdout",
     "output_type": "stream",
     "text": [
      "Method from A\n",
      "Method from B\n"
     ]
    }
   ],
   "source": [
    "class A:\n",
    "    def method(self):\n",
    "        print(\"Method from A\")\n",
    "\n",
    "class B(A):\n",
    "    def method(self):\n",
    "        super().method() \n",
    "        print(\"Method from B\")\n",
    "\n",
    "obj_B = B()\n",
    "obj_B.method()"
   ]
  },
  {
   "cell_type": "markdown",
   "id": "7b597145-45ef-454e-b17d-b301e5d0fab6",
   "metadata": {},
   "source": [
    "### 7. Create a Python class called `Animal` with a method `speak()`. Then, create child classes `Dog` and `Cat` that inherit from `Animal` and override the `speak()` method. Provide an example of using these classes."
   ]
  },
  {
   "cell_type": "code",
   "execution_count": 29,
   "id": "d2b7e99e-2f00-465d-ab5d-d01bcaa44f48",
   "metadata": {},
   "outputs": [
    {
     "name": "stdout",
     "output_type": "stream",
     "text": [
      "Dog barks\n",
      "Cat meows\n"
     ]
    }
   ],
   "source": [
    "class Animal:\n",
    "    def speak(self):\n",
    "        print(\"Animal speaks\")\n",
    "\n",
    "class Dog(Animal):\n",
    "    def speak(self):\n",
    "        print(\"Dog barks\")\n",
    "\n",
    "class Cat(Animal):\n",
    "    def speak(self):\n",
    "        print(\"Cat meows\")\n",
    "\n",
    "# Example\n",
    "dog = Dog()\n",
    "cat = Cat()\n",
    "dog.speak()\n",
    "cat.speak()"
   ]
  },
  {
   "cell_type": "markdown",
   "id": "756e3310-fb81-4259-a417-e5dd30fd1d99",
   "metadata": {},
   "source": [
    "### 8. Explain the role of the `isinstance()` function in Python and how it relates to inheritance."
   ]
  },
  {
   "cell_type": "markdown",
   "id": "df7db002-36f9-4e77-ba04-56c52637dd3f",
   "metadata": {
    "tags": []
   },
   "source": [
    "##### isinstance(obj, class_or_tuple) checks if an object is an instance of a class or a tuple of classes.\n",
    "Example: isinstance(dog, Animal) returns True."
   ]
  },
  {
   "cell_type": "markdown",
   "id": "f4354a5b-885d-47fc-9bb4-adb77710eadc",
   "metadata": {},
   "source": [
    "### 9. What is the purpose of the `issubclass()` function in Python? Provide an example."
   ]
  },
  {
   "cell_type": "markdown",
   "id": "dbbc9f75-617f-496a-beb0-509ac05e4093",
   "metadata": {
    "tags": []
   },
   "source": [
    "##### issubclass(cls, class_or_tuple) checks if a class is a subclass of a class or a tuple of classes.\n",
    "Example: issubclass(Dog, Animal) returns True"
   ]
  },
  {
   "cell_type": "markdown",
   "id": "22db1f6d-9728-4bd2-8dc8-d8e2a8e4916e",
   "metadata": {},
   "source": [
    "### 10. Discuss the concept of constructor inheritance in Python. How are constructors inherited in child classes?"
   ]
  },
  {
   "cell_type": "markdown",
   "id": "f0f47d18-dae7-4e15-b7b7-593e23113f2d",
   "metadata": {
    "tags": []
   },
   "source": [
    "##### Constructors are inherited in Python, and the child class can use super().__init__(...) to invoke the parent class constructor.\n"
   ]
  },
  {
   "cell_type": "markdown",
   "id": "85185e80-1aa0-46de-b9e5-1589c6a9d28a",
   "metadata": {},
   "source": [
    "### 11. Create a Python class called `Shape` with a method `area()` that calculates the area of a shape. Then, create child classes `Circle` and `Rectangle` that inherit from `Shape` and implement the `area()` methodaccordingly. Provide an example."
   ]
  },
  {
   "cell_type": "code",
   "execution_count": 30,
   "id": "444133be-2de9-42f0-a0e6-44f94d70cf4e",
   "metadata": {},
   "outputs": [],
   "source": [
    "from abc import ABC, abstractmethod\n",
    "\n",
    "class Shape(ABC):\n",
    "    @abstractmethod\n",
    "    def area(self):\n",
    "        pass\n",
    "\n",
    "class Circle(Shape):\n",
    "    def __init__(self, radius):\n",
    "        self.radius = radius\n",
    "\n",
    "    def area(self):\n",
    "        return 3.14 * self.radius ** 2\n",
    "\n",
    "class Rectangle(Shape):\n",
    "    def __init__(self, length, width):\n",
    "        self.length = length\n",
    "        self.width = width\n",
    "\n",
    "    def area(self):\n",
    "        return self.length * self.width\n",
    "\n",
    "circle = Circle(5)\n",
    "rectangle = Rectangle(4, 6)"
   ]
  },
  {
   "cell_type": "markdown",
   "id": "d54d8011-064a-485a-8d2a-2966870c40b0",
   "metadata": {},
   "source": [
    "### 12. Explain the use of abstract base classes (ABCs) in Python and how they relate to inheritance. Provide an example using the `abc` module."
   ]
  },
  {
   "cell_type": "code",
   "execution_count": 31,
   "id": "f798ab82-1686-461a-a3fa-4bd13806e1e8",
   "metadata": {},
   "outputs": [],
   "source": [
    "#Abstract Base Classes in Python are created using the abc module.\n",
    "#exmple\n",
    "from abc import ABC, abstractmethod\n",
    "\n",
    "class MyABC(ABC):\n",
    "    @abstractmethod\n",
    "    def my_method(self):\n",
    "        pass"
   ]
  },
  {
   "cell_type": "markdown",
   "id": "ff57a519-49a5-4a2d-94c8-5bf7d3a89240",
   "metadata": {},
   "source": [
    "### 13. How can you prevent a child class from modifying certain attributes or methods inherited from a parent class in Python?"
   ]
  },
  {
   "cell_type": "markdown",
   "id": "f3f07e38-69dc-4b3f-a35e-1da6024c2eb4",
   "metadata": {
    "tags": []
   },
   "source": [
    "##### Use name mangling to make an attribute or method private by adding a double underscore (__) before its name."
   ]
  },
  {
   "cell_type": "markdown",
   "id": "61a1c697-35a2-45df-ba3c-cba1e67ea6d6",
   "metadata": {},
   "source": [
    "### 14. Create a Python class called `Employee` with attributes `name` and `salary`. Then, create a child class `Manager` that inherits from `Employee` and adds an attribute `department`. Provide an example."
   ]
  },
  {
   "cell_type": "code",
   "execution_count": 32,
   "id": "3b0e25d8-6157-4c7a-acfd-0e057822e801",
   "metadata": {},
   "outputs": [],
   "source": [
    "class Employee:\n",
    "    def __init__(self, name, salary):\n",
    "        self.name = name\n",
    "        self.salary = salary\n",
    "\n",
    "class Manager(Employee):\n",
    "    def __init__(self, name, salary, department):\n",
    "        super().__init__(name, salary)\n",
    "        self.department = department\n",
    "\n",
    "manager = Manager(\"John\", 50000, \"HR\")"
   ]
  },
  {
   "cell_type": "markdown",
   "id": "31b466f2-9d4f-4a9a-b3e2-09889c93fb6f",
   "metadata": {},
   "source": [
    "### 15. Discuss the concept of method overloading in Python inheritance. How does it differ from method overriding?"
   ]
  },
  {
   "cell_type": "markdown",
   "id": "ecc95325-d6d0-4442-a2a9-bbbd60a0353a",
   "metadata": {
    "tags": []
   },
   "source": [
    "##### Method overloading involves defining multiple methods with the same name but different parameters within the same class.\n",
    "##### Method overriding involves redefining a method in a subclass with the same name and parameters as a method in the parent class."
   ]
  },
  {
   "cell_type": "markdown",
   "id": "b45d6e7c-18b0-45a2-b6e6-3d7622f11e95",
   "metadata": {
    "tags": []
   },
   "source": [
    "### 16. Explain the purpose of the `__init__()` method in Python inheritance and how it is utilized in child classes."
   ]
  },
  {
   "cell_type": "markdown",
   "id": "9ad77793-10ae-4606-9267-5dbb44bf4e89",
   "metadata": {
    "tags": []
   },
   "source": [
    "##### The __init__() method initializes an object in a class.\n",
    "##### It is utilized in child classes to add or modify attributes while invoking the parent class's __init__() using super().__init__(...)."
   ]
  },
  {
   "cell_type": "markdown",
   "id": "1b13cf1c-e9e9-4cc4-8083-fd7ca747fa82",
   "metadata": {},
   "source": [
    "### 17. Create a Python class called `Bird` with a method `fly()`. Then, create child classes `Eagle` and `Sparrow` that inherit from `Bird` and implement the `fly()` method differently. Provide an example of using these classes."
   ]
  },
  {
   "cell_type": "code",
   "execution_count": 33,
   "id": "3625ddef-dada-4b77-bfa0-639861b7e386",
   "metadata": {},
   "outputs": [],
   "source": [
    "class Bird:\n",
    "    def fly(self):\n",
    "        print(\"Bird can fly\")\n",
    "\n",
    "class Eagle(Bird):\n",
    "    def fly(self):\n",
    "        print(\"Eagle soars high\")\n",
    "\n",
    "class Sparrow(Bird):\n",
    "    def fly(self):\n",
    "        print(\"Sparrow flutters around\")\n",
    "\n",
    "eagle = Eagle()\n",
    "sparrow = Sparrow()"
   ]
  },
  {
   "cell_type": "markdown",
   "id": "888c03ae-ebe3-4218-8b7b-81708a3bbd84",
   "metadata": {},
   "source": [
    "### 18. What is the \"diamond problem\" in multiple inheritance, and how does Python address it?"
   ]
  },
  {
   "cell_type": "markdown",
   "id": "e4737293-f4ca-4775-a792-519d693dbc4a",
   "metadata": {
    "tags": []
   },
   "source": [
    "##### The \"diamond problem\" occurs when a class inherits from two classes that have a common ancestor. Python addresses it using a method resolution order (MRO) that follows a specific hierarchy."
   ]
  },
  {
   "cell_type": "markdown",
   "id": "3d2f4588-3295-41a8-bee4-eac9fa473a09",
   "metadata": {},
   "source": [
    "### 19. Discuss the concept of \"is-a\" and \"has-a\" relationships in inheritance, and provide examples of each."
   ]
  },
  {
   "cell_type": "markdown",
   "id": "954b3d2d-11b7-48a9-ae2a-addafe1a5d50",
   "metadata": {
    "tags": []
   },
   "source": [
    "##### \"is-a\" relationship represents inheritance, where a class is a subclass of another class (e.g., Dog is-a Animal).\n",
    "##### \"has-a\" relationship represents composition, where a class has another class as a component (e.g., Car has-a Engine)."
   ]
  },
  {
   "cell_type": "markdown",
   "id": "5c054335-d063-41b2-a483-9535860c59c4",
   "metadata": {},
   "source": [
    "### 20. Create a Python class hierarchy for a university system. Start with a base class `Person` and create child classes `Student` and `Professor`, each with their own attributes and methods. Provide an example of using these classes in a university context."
   ]
  },
  {
   "cell_type": "code",
   "execution_count": 34,
   "id": "4734e488-eaa0-407b-b46a-2ac5fb014625",
   "metadata": {},
   "outputs": [],
   "source": [
    "class Person:\n",
    "    def __init__(self, name, age):\n",
    "        self.name = name\n",
    "        self.age = age\n",
    "\n",
    "class Student(Person):\n",
    "    def __init__(self, name, age, student_id):\n",
    "        super().__init__(name, age)\n",
    "        self.student_id = student_id\n",
    "\n",
    "class Professor(Person):\n",
    "    def __init__(self, name, age, employee_id):\n",
    "        super().__init__(name, age)\n",
    "        self.employee_id = employee_id\n",
    "\n",
    "student = Student(\"Alice\", 20, \"S123\")\n",
    "professor = Professor(\"Dr. Smith\", 45, \"P789\")"
   ]
  },
  {
   "cell_type": "markdown",
   "id": "6f29ffc9-fe43-4984-8a13-480aa692422f",
   "metadata": {
    "tags": []
   },
   "source": [
    "### Encapsulation:"
   ]
  },
  {
   "cell_type": "markdown",
   "id": "ce7654e4-1b4f-4b2c-ad2e-113bd2ba70e9",
   "metadata": {},
   "source": [
    "### 1. Explain the concept of encapsulation in Python. What is its role in object-oriented programming?"
   ]
  },
  {
   "cell_type": "markdown",
   "id": "e1a180ab-6b1c-4abe-b05d-122573f75ab4",
   "metadata": {
    "tags": []
   },
   "source": [
    "##### Encapsulation is a fundamental concept in object-oriented programming (OOP) that involves bundling the data (attributes) and methods (functions) that operate on the data into a single unit known as a class. It restricts direct access to some of an object's components and can prevent the accidental modification of data."
   ]
  },
  {
   "cell_type": "markdown",
   "id": "8653b105-4a36-4346-a367-e6ae319e10aa",
   "metadata": {},
   "source": [
    "### 2. Describe the key principles of encapsulation, including access control and data hiding."
   ]
  },
  {
   "cell_type": "markdown",
   "id": "79d98975-2bf0-4795-a9b2-815b98985c8c",
   "metadata": {
    "tags": []
   },
   "source": [
    "##### Access Control: Restricting access to certain attributes or methods to prevent unintended modification or usage.\n",
    "##### Data Hiding: Concealing the implementation details of an object and exposing only what is necessary."
   ]
  },
  {
   "cell_type": "markdown",
   "id": "36d79fd5-05e8-4c40-8ba5-4e2ffa636167",
   "metadata": {},
   "source": [
    "### 3. How can you achieve encapsulation in Python classes? Provide an example."
   ]
  },
  {
   "cell_type": "code",
   "execution_count": null,
   "id": "3e0dea58-b77d-4dc1-a3a2-5b0524ac24c7",
   "metadata": {},
   "outputs": [],
   "source": [
    "#Encapsulation is achieved by using access modifiers like public, private, and protected in class attributes and methods\n",
    "#Example\n",
    "class MyClass:\n",
    "    def __init__(self):\n",
    "        self._protected_attribute = 10  # Protected attribute\n",
    "        self.__private_attribute = 20  # Private attribute\n",
    "\n",
    "    def get_private_attribute(self):\n",
    "        return self.__private_attribute\n",
    "\n",
    "    def set_private_attribute(self, value):\n",
    "        self.__private_attribute = value\n"
   ]
  },
  {
   "cell_type": "markdown",
   "id": "bb87ce3b-1597-4885-9291-532e6f1092c1",
   "metadata": {},
   "source": [
    "### 4. Discuss the difference between public, private, and protected access modifiers in Python."
   ]
  },
  {
   "cell_type": "markdown",
   "id": "a00c9a98-b292-4293-8263-c85048297115",
   "metadata": {},
   "source": [
    "##### Public: Accessible from anywhere. No underscores before the name.\n",
    "##### Protected: Accessible within the class and its subclasses. One underscore before the name.\n",
    "##### Private: Accessible only within the class. Two underscores before the name."
   ]
  },
  {
   "cell_type": "markdown",
   "id": "9bb9a1d5-08f4-4b28-8dca-e784212d36a9",
   "metadata": {},
   "source": [
    "### 5. Create a Python class called `Person` with a private attribute `__name`. Provide methods to get and set the name attribute."
   ]
  },
  {
   "cell_type": "code",
   "execution_count": 58,
   "id": "22eabd69-fa72-424d-9755-be403a519225",
   "metadata": {},
   "outputs": [],
   "source": [
    "class Person:\n",
    "    def __init__(self):\n",
    "        self.__name = \"\"\n",
    "\n",
    "    def get_name(self):\n",
    "        return self.__name\n",
    "\n",
    "    def set_name(self, name):\n",
    "        self.__name = name"
   ]
  },
  {
   "cell_type": "markdown",
   "id": "b88f5077-d178-42af-b6b7-18b35b1766d7",
   "metadata": {},
   "source": [
    "### 6. Explain the purpose of getter and setter methods in encapsulation. Provide examples."
   ]
  },
  {
   "cell_type": "code",
   "execution_count": 59,
   "id": "96189720-e9ac-4c68-845c-7eda3db754de",
   "metadata": {},
   "outputs": [
    {
     "name": "stdout",
     "output_type": "stream",
     "text": [
      "AMAN\n"
     ]
    }
   ],
   "source": [
    "#Getter: Method to retrieve the value of a private attribute.\n",
    "#Setter: Method to set the value of a private attribute.\n",
    "#Example:\n",
    "person = Person()\n",
    "person.set_name(\"AMAN\")\n",
    "print(person.get_name())  # Outputs: John"
   ]
  },
  {
   "cell_type": "markdown",
   "id": "c1097e2c-b535-4225-9433-eb2c34f232fa",
   "metadata": {},
   "source": [
    "### 7. What is name mangling in Python, and how does it affect encapsulation?"
   ]
  },
  {
   "cell_type": "code",
   "execution_count": 60,
   "id": "bfcf6004-7f2f-4e67-a06a-1d9dfe8dd24e",
   "metadata": {},
   "outputs": [
    {
     "name": "stdout",
     "output_type": "stream",
     "text": [
      "42\n"
     ]
    }
   ],
   "source": [
    "#Name mangling adds a prefix to a private attribute to make it harder to access from outside the class.\n",
    "#Example\n",
    "class MyClass:\n",
    "    def __init__(self):\n",
    "        self.__private_attribute = 42\n",
    "\n",
    "obj = MyClass()\n",
    "print(obj._MyClass__private_attribute)  # Outputs: 42"
   ]
  },
  {
   "cell_type": "markdown",
   "id": "e9359d8f-3d1d-43e2-b344-199877ca2f93",
   "metadata": {},
   "source": [
    "### 8. Create a Python class called `BankAccount` with private attributes for the account balance (`__balance`) and account number (`__account_number`). Provide methods for depositing and withdrawing money."
   ]
  },
  {
   "cell_type": "code",
   "execution_count": 61,
   "id": "9582f6c3-4dc0-4d9d-b9c9-9372720eb25e",
   "metadata": {},
   "outputs": [],
   "source": [
    "class BankAccount:\n",
    "    def __init__(self):\n",
    "        self.__balance = 0.0\n",
    "        self.__account_number = \"\"\n",
    "\n",
    "    def deposit(self, amount):\n",
    "        self.__balance += amount\n",
    "\n",
    "    def withdraw(self, amount):\n",
    "        if amount <= self.__balance:\n",
    "            self.__balance -= amount\n",
    "        else:\n",
    "            print(\"Insufficient funds.\")"
   ]
  },
  {
   "cell_type": "markdown",
   "id": "a85d5662-035f-4a94-a6da-099433006389",
   "metadata": {},
   "source": [
    "### 9. Discuss the advantages of encapsulation in terms of code maintainability and security."
   ]
  },
  {
   "cell_type": "markdown",
   "id": "1e836d94-9c5c-4caa-8b36-293124dd6e8f",
   "metadata": {},
   "source": [
    "##### Code Maintainability: Encapsulation simplifies updates and modifications without affecting external code.\n",
    "##### Security: Protects sensitive information and prevents unintended modifications."
   ]
  },
  {
   "cell_type": "markdown",
   "id": "d7689a05-b5d5-47b9-9cf5-3de62909f995",
   "metadata": {},
   "source": [
    "### 10. How can you access private attributes in Python? Provide an example demonstrating the use of name mangling."
   ]
  },
  {
   "cell_type": "code",
   "execution_count": 62,
   "id": "799e6320-e096-41ee-be18-dfab02b67b29",
   "metadata": {},
   "outputs": [
    {
     "name": "stdout",
     "output_type": "stream",
     "text": [
      "42\n"
     ]
    }
   ],
   "source": [
    "class MyClass:\n",
    "    def __init__(self):\n",
    "        self.__private_attribute = 42\n",
    "\n",
    "obj = MyClass()\n",
    "print(obj._MyClass__private_attribute)  # Outputs: 42"
   ]
  },
  {
   "cell_type": "markdown",
   "id": "c3dd3278-9c23-4779-8300-021853b64094",
   "metadata": {},
   "source": [
    "### 11. Create a Python class hierarchy for a school system, including classes for students, teachers, and courses, and implement encapsulation principles to protect sensitive information."
   ]
  },
  {
   "cell_type": "code",
   "execution_count": 65,
   "id": "854646a4-22c1-4ce4-a2db-8b4db9ff75c6",
   "metadata": {},
   "outputs": [
    {
     "name": "stdout",
     "output_type": "stream",
     "text": [
      "Ankita is enrolled in Mathematics 101\n",
      "Mr. Sudhanshu teaches English Literature\n"
     ]
    }
   ],
   "source": [
    "class Person:\n",
    "    def __init__(self, name, age, gender):\n",
    "        self.__name = name\n",
    "        self.__age = age\n",
    "        self.__gender = gender\n",
    "\n",
    "    def get_name(self):\n",
    "        return self.__name\n",
    "\n",
    "    def get_age(self):\n",
    "        return self.__age\n",
    "\n",
    "    def get_gender(self):\n",
    "        return self.__gender\n",
    "\n",
    "\n",
    "class Student(Person):\n",
    "    def __init__(self, name, age, gender, student_id, courses):\n",
    "        super().__init__(name, age, gender)\n",
    "        self.__student_id = student_id\n",
    "        self.__courses = courses\n",
    "\n",
    "    def get_student_id(self):\n",
    "        return self.__student_id\n",
    "\n",
    "    def get_courses(self):\n",
    "        return self.__courses\n",
    "\n",
    "    def enroll_course(self, course):\n",
    "        self.__courses.append(course)\n",
    "\n",
    "\n",
    "class Teacher(Person):\n",
    "    def __init__(self, name, age, gender, employee_id, courses_taught):\n",
    "        super().__init__(name, age, gender)\n",
    "        self.__employee_id = employee_id\n",
    "        self.__courses_taught = courses_taught\n",
    "\n",
    "    def get_employee_id(self):\n",
    "        return self.__employee_id\n",
    "\n",
    "    def get_courses_taught(self):\n",
    "        return self.__courses_taught\n",
    "\n",
    "    def assign_course(self, course):\n",
    "        self.__courses_taught.append(course)\n",
    "\n",
    "\n",
    "class Course:\n",
    "    def __init__(self, course_code, course_name):\n",
    "        self.__course_code = course_code\n",
    "        self.__course_name = course_name\n",
    "\n",
    "    def get_course_code(self):\n",
    "        return self.__course_code\n",
    "\n",
    "    def get_course_name(self):\n",
    "        return self.__course_name\n",
    "\n",
    "\n",
    "# Example usage:\n",
    "\n",
    "# Creating courses\n",
    "math_course = Course(\"MATH101\", \"Mathematics 101\")\n",
    "english_course = Course(\"ENG202\", \"English Literature\")\n",
    "\n",
    "# Creating students\n",
    "student1 = Student(\"Ankita\", 20, \"Female\", \"S12345\", [math_course])\n",
    "student2 = Student(\"Aman\", 22, \"Male\", \"S67890\", [english_course])\n",
    "\n",
    "# Creating teachers\n",
    "teacher1 = Teacher(\"Ms. Priya\", 35, \"Female\", \"T98765\", [math_course])\n",
    "teacher2 = Teacher(\"Mr. Sudhanshu\", 40, \"Male\", \"T54321\", [english_course])\n",
    "\n",
    "# Accessing information using encapsulation\n",
    "print(f\"{student1.get_name()} is enrolled in {student1.get_courses()[0].get_course_name()}\")\n",
    "print(f\"{teacher2.get_name()} teaches {teacher2.get_courses_taught()[0].get_course_name()}\")\n"
   ]
  },
  {
   "cell_type": "markdown",
   "id": "9733c5ea-01d8-4190-b75a-96980e5752f9",
   "metadata": {},
   "source": [
    "### 12. Explain the concept of property decorators in Python and how they relate to encapsulation."
   ]
  },
  {
   "cell_type": "code",
   "execution_count": 66,
   "id": "9d638859-3af8-45f8-aa3b-0e34c5d240ee",
   "metadata": {},
   "outputs": [],
   "source": [
    "#Property decorators provide a cleaner way to define getter and setter methods.\n",
    "#Example:\n",
    "class MyClass:\n",
    "    def __init__(self):\n",
    "        self._value = 0\n",
    "\n",
    "    @property\n",
    "    def value(self):\n",
    "        return self._value\n",
    "\n",
    "    @value.setter\n",
    "    def value(self, new_value):\n",
    "        self._value = new_value"
   ]
  },
  {
   "cell_type": "markdown",
   "id": "fbb40a11-1099-48c4-b3b3-003843178fd6",
   "metadata": {},
   "source": [
    "### 13. What is data hiding, and why is it important in encapsulation? Provide examples."
   ]
  },
  {
   "cell_type": "code",
   "execution_count": 67,
   "id": "d1b8f76b-9ba3-4cdc-91d1-e7708e844935",
   "metadata": {
    "tags": []
   },
   "outputs": [],
   "source": [
    "# Data hiding is essential for protecting an object's internal state and ensuring that it is accessed and modified only through defined methods. \n",
    "#It prevents accidental misuse and promotes better design.\n",
    "class MyClass:\n",
    "    def __init__(self):\n",
    "        self.__hidden_data = \"Sensitive information\"\n",
    "\n",
    "    def get_hidden_data(self):\n",
    "        return self.__hidden_data"
   ]
  },
  {
   "cell_type": "markdown",
   "id": "6ead1e80-9b11-4c93-bb0a-73798952f3d5",
   "metadata": {},
   "source": [
    "### 14. Create a Python class called `Employee` with private attributes for salary (`__salary`) and employee ID (`__employee_id`). Provide a method to calculate yearly bonuses."
   ]
  },
  {
   "cell_type": "code",
   "execution_count": 68,
   "id": "7baa0079-3a33-4f10-b6ef-32e4930eb451",
   "metadata": {},
   "outputs": [],
   "source": [
    "class Employee:\n",
    "    def __init__(self):\n",
    "        self.__salary = 0\n",
    "        self.__employee_id = \"\"\n",
    "\n",
    "    def calculate_bonus(self):\n",
    "        return self.__salary * 0.7"
   ]
  },
  {
   "cell_type": "markdown",
   "id": "79416aee-2545-4528-ad4b-121bb0613646",
   "metadata": {},
   "source": [
    "### 15. Discuss the use of accessors and mutators in encapsulation. How do they help maintain control over attribute access?"
   ]
  },
  {
   "cell_type": "markdown",
   "id": "954da0d4-730f-40b2-ade6-6f094c7f207a",
   "metadata": {
    "tags": []
   },
   "source": [
    "##### Accessors: Getter methods that provide read access to private attributes.\n",
    "##### Mutators: Setter methods that provide write access to private attributes.\n",
    "##### They help maintain control over attribute access, ensuring validation and consistency."
   ]
  },
  {
   "cell_type": "markdown",
   "id": "d98766e9-776e-4f0d-8629-4652b3447fef",
   "metadata": {},
   "source": [
    "### 16. What are the potential drawbacks or disadvantages of using encapsulation in Python?"
   ]
  },
  {
   "cell_type": "markdown",
   "id": "299b5eaa-61d1-41d6-ab43-aa94f5e595ea",
   "metadata": {
    "tags": []
   },
   "source": [
    "##### Overuse of encapsulation may lead to complex code.\n",
    "##### Some performance overhead due to method calls."
   ]
  },
  {
   "cell_type": "markdown",
   "id": "80b8997e-7e42-411f-b642-9a1fb63883e6",
   "metadata": {},
   "source": [
    "### 17. Create a Python class for a library system that encapsulates book information, including titles, authors, and availability status."
   ]
  },
  {
   "cell_type": "code",
   "execution_count": 70,
   "id": "1ae07a5f-3143-46b0-82ef-a86baf65fb6b",
   "metadata": {},
   "outputs": [
    {
     "name": "stdout",
     "output_type": "stream",
     "text": [
      "Book Title: The Catcher in the Rye\n",
      "Book Author: J.D. Salinger\n",
      "Availability: True\n",
      "Book 'The Catcher in the Rye' by J.D. Salinger has been borrowed.\n",
      "Book 'The Catcher in the Rye' by J.D. Salinger has been returned.\n",
      "Book 'To Kill a Mockingbird' by Harper Lee has been borrowed.\n",
      "Sorry, the book 'To Kill a Mockingbird' is currently not available.\n",
      "Book 'To Kill a Mockingbird' by Harper Lee has been returned.\n"
     ]
    }
   ],
   "source": [
    "class Book:\n",
    "    def __init__(self, title, author, availability=True):\n",
    "        self.__title = title\n",
    "        self.__author = author\n",
    "        self.__availability = availability\n",
    "\n",
    "    def get_title(self):\n",
    "        return self.__title\n",
    "\n",
    "    def get_author(self):\n",
    "        return self.__author\n",
    "\n",
    "    def is_available(self):\n",
    "        return self.__availability\n",
    "\n",
    "    def borrow_book(self):\n",
    "        if self.__availability:\n",
    "            print(f\"Book '{self.__title}' by {self.__author} has been borrowed.\")\n",
    "            self.__availability = False\n",
    "        else:\n",
    "            print(f\"Sorry, the book '{self.__title}' is currently not available.\")\n",
    "\n",
    "    def return_book(self):\n",
    "        if not self.__availability:\n",
    "            print(f\"Book '{self.__title}' by {self.__author} has been returned.\")\n",
    "            self.__availability = True\n",
    "        else:\n",
    "            print(f\"The book '{self.__title}' is already available in the library.\")\n",
    "\n",
    "\n",
    "book1 = Book(\"The Catcher in the Rye\", \"J.D. Salinger\")\n",
    "book2 = Book(\"To Kill a Mockingbird\", \"Harper Lee\")\n",
    "\n",
    "\n",
    "print(f\"Book Title: {book1.get_title()}\")\n",
    "print(f\"Book Author: {book1.get_author()}\")\n",
    "print(f\"Availability: {book1.is_available()}\")\n",
    "\n",
    "book1.borrow_book()\n",
    "book1.return_book()\n",
    "book2.borrow_book()\n",
    "book2.borrow_book()\n",
    "book2.return_book()\n"
   ]
  },
  {
   "cell_type": "markdown",
   "id": "d907130c-2779-42a0-9c27-5f7ed32dfbb4",
   "metadata": {},
   "source": [
    "### 18. Explain how encapsulation enhances code reusability and modularity in Python programs."
   ]
  },
  {
   "cell_type": "markdown",
   "id": "bb8462a1-97eb-49e1-8f38-04e1b08046ec",
   "metadata": {
    "tags": []
   },
   "source": [
    "##### Encapsulation promotes modular design, making it easier to reuse classes in different contexts."
   ]
  },
  {
   "cell_type": "markdown",
   "id": "a14b31f4-4c60-40b2-b2eb-dfef67d09711",
   "metadata": {},
   "source": [
    "### 19. Describe the concept of information hiding in encapsulation. Why is it essential in software development?"
   ]
  },
  {
   "cell_type": "markdown",
   "id": "ca327d09-8469-43ff-aaf1-a689ad4d287a",
   "metadata": {
    "tags": []
   },
   "source": [
    "##### Information hiding refers to the practice of exposing only essential information while concealing implementation details. It ensures that changes to the internal structure of a class do not affect external code."
   ]
  },
  {
   "cell_type": "markdown",
   "id": "2e44c9fd-7bb0-46ea-990b-1d3b7b6dac2d",
   "metadata": {},
   "source": [
    "### 20. Create a Python class called `Customer` with private attributes for customer details like name, address, and contact information. Implement encapsulation to ensure data integrity and security."
   ]
  },
  {
   "cell_type": "code",
   "execution_count": 69,
   "id": "df992c02-7088-4ee7-a133-2912f38f07a7",
   "metadata": {},
   "outputs": [],
   "source": [
    "class Customer:\n",
    "    def __init__(self):\n",
    "        self.__name = \"\"\n",
    "        self.__address = \"\"\n",
    "        self.__contact_info = \"\"\n",
    "\n",
    "    def update_contact_info(self, new_contact_info):\n",
    "        self.__contact_info = new_contact_info"
   ]
  },
  {
   "cell_type": "markdown",
   "id": "6ab10121-7871-42a9-a75d-379d11e9accf",
   "metadata": {},
   "source": [
    "## Polymorphism:"
   ]
  },
  {
   "cell_type": "markdown",
   "id": "553f6791-75b5-4662-8d53-9122ce31bb75",
   "metadata": {},
   "source": [
    "### 1. What is polymorphism in Python? Explain how it is related to object-oriented programming."
   ]
  },
  {
   "cell_type": "markdown",
   "id": "52f3067c-e366-444c-b6e4-b1d1a01380f2",
   "metadata": {},
   "source": [
    "##### Polymorphism is a concept in Python that allows objects of different types to be treated as objects of a common type. It allows a single interface to represent different underlying data types. In object-oriented programming, polymorphism enables code to work with objects of various types and classes through a common interface."
   ]
  },
  {
   "cell_type": "markdown",
   "id": "5445fae2-fc8f-4044-aa76-757e5c62adb1",
   "metadata": {},
   "source": [
    "### 2. Describe the difference between compile-time polymorphism and runtime polymorphism in Python."
   ]
  },
  {
   "cell_type": "markdown",
   "id": "93a24b0b-b1f3-449d-aa70-303bce7f2e27",
   "metadata": {},
   "source": [
    "##### 1.Compile-time polymorphism, also known as method overloading, occurs at compile time. It involves having multiple methods with the same name in the same class, but with different parameters. The correct method is selected based on the number and types of arguments during compilation.\n",
    "##### 2.Runtime polymorphism, also known as method overriding, occurs at runtime. It involves having methods with the same name and parameters in both the parent and child classes. The correct method is selected based on the actual object type during program execution."
   ]
  },
  {
   "cell_type": "markdown",
   "id": "6cec236f-4962-4dbb-9454-67d4f85651ea",
   "metadata": {},
   "source": [
    "### 3. Create a Python class hierarchy for shapes (e.g., circle, square, triangle) and demonstrate polymorphism through a common method, such as `calculate_area()`."
   ]
  },
  {
   "cell_type": "code",
   "execution_count": 22,
   "id": "6f89aa0c-52e4-4e61-b4f1-7a0ed641ed53",
   "metadata": {},
   "outputs": [
    {
     "name": "stdout",
     "output_type": "stream",
     "text": [
      "Area: 78.5\n",
      "Area: 16\n",
      "Area: 9.0\n"
     ]
    }
   ],
   "source": [
    "class Shape:\n",
    "    def calculate_area(self):\n",
    "        pass\n",
    "\n",
    "class Circle(Shape):\n",
    "    def __init__(self, radius):\n",
    "        self.radius = radius\n",
    "\n",
    "    def calculate_area(self):\n",
    "        return 3.14 * self.radius * self.radius\n",
    "\n",
    "class Square(Shape):\n",
    "    def __init__(self, side_length):\n",
    "        self.side_length = side_length\n",
    "\n",
    "    def calculate_area(self):\n",
    "        return self.side_length * self.side_length\n",
    "\n",
    "class Triangle(Shape):\n",
    "    def __init__(self, base, height):\n",
    "        self.base = base\n",
    "        self.height = height\n",
    "\n",
    "    def calculate_area(self):\n",
    "        return 0.5 * self.base * self.height\n",
    "\n",
    "# Usage:\n",
    "circle = Circle(5)\n",
    "square = Square(4)\n",
    "triangle = Triangle(3, 6)\n",
    "\n",
    "shapes = [circle, square, triangle]\n",
    "for shape in shapes:\n",
    "    print(f\"Area: {shape.calculate_area()}\")"
   ]
  },
  {
   "cell_type": "markdown",
   "id": "c7861946-fc47-4d02-bf12-d2f3a2c43f67",
   "metadata": {},
   "source": [
    "### 4. Explain the concept of method overriding in polymorphism. Provide an example."
   ]
  },
  {
   "cell_type": "code",
   "execution_count": 23,
   "id": "23ed1635-d121-43d3-84e7-a80651999f31",
   "metadata": {},
   "outputs": [
    {
     "name": "stdout",
     "output_type": "stream",
     "text": [
      "Bark\n",
      "Meow\n"
     ]
    }
   ],
   "source": [
    "#Method overriding occurs when a subclass provides a specific implementation for a method that is already defined \n",
    "#in its superclass. The overridden method in the subclass has the same name and parameters as the method in the superclass. \n",
    "#It allows a child class to provide a specialized version of a method inherited from its parent class.\n",
    "class Animal:\n",
    "    def sound(self):\n",
    "        print(\"Generic animal sound\")\n",
    "\n",
    "class Dog(Animal):\n",
    "    def sound(self):\n",
    "        print(\"Bark\")\n",
    "\n",
    "class Cat(Animal):\n",
    "    def sound(self):\n",
    "        print(\"Meow\")\n",
    "\n",
    "# Usage:\n",
    "dog = Dog()\n",
    "cat = Cat()\n",
    "\n",
    "dog.sound()  # Output: Bark\n",
    "cat.sound()  # Output: Meow"
   ]
  },
  {
   "cell_type": "markdown",
   "id": "77b2d182-a964-41af-b665-aa31f3794621",
   "metadata": {},
   "source": [
    "### 5. How is polymorphism different from method overloading in Python? Provide examples for both."
   ]
  },
  {
   "cell_type": "markdown",
   "id": "0a186d2f-e60f-4117-b50b-649a942add90",
   "metadata": {},
   "source": [
    "##### 1.Polymorphism allows objects of different types to be treated as objects of a common type. It is achieved through method overriding in subclasses, where methods with the same name in both the parent and child classes provide different implementations.\n",
    "\n",
    "##### 2.Method overloading involves defining multiple methods with the same name in the same class but with different parameters. The correct method is selected based on the number and types of arguments during compilation."
   ]
  },
  {
   "cell_type": "code",
   "execution_count": 24,
   "id": "a75e0050-a4cd-4298-b2df-3b9cabbd8ebc",
   "metadata": {},
   "outputs": [],
   "source": [
    "# Polymorphism Example (Method Overriding):\n",
    "class Animal:\n",
    "    def sound(self):\n",
    "        print(\"Generic animal sound\")\n",
    "\n",
    "class Dog(Animal):\n",
    "    def sound(self):\n",
    "        print(\"Bark\")\n",
    "\n",
    "# Method Overloading Example:\n",
    "class Calculator:\n",
    "    def add(self, a, b):\n",
    "        return a + b\n",
    "\n",
    "    def add(self, a, b, c):\n",
    "        return a + b + c\n"
   ]
  },
  {
   "cell_type": "markdown",
   "id": "e68c18b5-12dd-49d5-a865-500c08c0b9e1",
   "metadata": {},
   "source": [
    "### 6. Create a Python class called `Animal` with a method `speak()`. Then, create child classes like `Dog`, `Cat`, and `Bird`, each with their own `speak()` method. Demonstrate polymorphism by calling the `speak()` method on objects of different subclasses."
   ]
  },
  {
   "cell_type": "code",
   "execution_count": 25,
   "id": "97ea20e5-06a9-4eae-b78e-48707529a0d1",
   "metadata": {},
   "outputs": [
    {
     "name": "stdout",
     "output_type": "stream",
     "text": [
      "Woof\n",
      "Meow\n",
      "Chirp\n"
     ]
    }
   ],
   "source": [
    "class Animal:\n",
    "    def speak(self):\n",
    "        pass\n",
    "\n",
    "class Dog(Animal):\n",
    "    def speak(self):\n",
    "        print(\"Woof\")\n",
    "\n",
    "class Cat(Animal):\n",
    "    def speak(self):\n",
    "        print(\"Meow\")\n",
    "\n",
    "class Bird(Animal):\n",
    "    def speak(self):\n",
    "        print(\"Chirp\")\n",
    "\n",
    "# Usage:\n",
    "dog = Dog()\n",
    "cat = Cat()\n",
    "bird = Bird()\n",
    "\n",
    "animals = [dog, cat, bird]\n",
    "for animal in animals:\n",
    "    animal.speak()"
   ]
  },
  {
   "cell_type": "markdown",
   "id": "423e9a83-45ae-431f-b1d0-97118e18d1a2",
   "metadata": {},
   "source": [
    "### 7. Discuss the use of abstract methods and classes in achieving polymorphism in Python. Provide an example using the `abc` module."
   ]
  },
  {
   "cell_type": "code",
   "execution_count": 26,
   "id": "d209b2e8-3d19-417a-900e-323004136a42",
   "metadata": {},
   "outputs": [],
   "source": [
    "#Abstract methods and classes provide a way to achieve polymorphism by defining a common interface that must be implemented by the subclasses. The abc module in Python supports abstract classes and methods.\n",
    "from abc import ABC, abstractmethod\n",
    "\n",
    "class Shape(ABC):\n",
    "    @abstractmethod\n",
    "    def calculate_area(self):\n",
    "        pass\n",
    "\n",
    "class Circle(Shape):\n",
    "    def __init__(self, radius):\n",
    "        self.radius = radius\n",
    "\n",
    "    def calculate_area(self):\n",
    "        return 3.14 * self.radius * self.radius\n",
    "\n",
    "class Square(Shape):\n",
    "    def __init__(self, side_length):\n",
    "        self.side_length = side_length\n",
    "\n",
    "    def calculate_area(self):\n",
    "        return self.side_length * self.side_length\n"
   ]
  },
  {
   "cell_type": "markdown",
   "id": "1b6d9720-5c5a-43f5-b5ce-be2439d1a060",
   "metadata": {},
   "source": [
    "### 8. Create a Python class hierarchy for a vehicle system (e.g., car, bicycle, boat) and implement a polymorphic `start()` method that prints a message specific to each vehicle type."
   ]
  },
  {
   "cell_type": "code",
   "execution_count": 27,
   "id": "23ec1bd8-b9a1-4e88-9b0d-f64bd946e48c",
   "metadata": {},
   "outputs": [
    {
     "name": "stdout",
     "output_type": "stream",
     "text": [
      "Car engine started\n",
      "Pedaling the bicycle\n",
      "Boat engine started\n"
     ]
    }
   ],
   "source": [
    "class Vehicle:\n",
    "    def start(self):\n",
    "        pass\n",
    "\n",
    "class Car(Vehicle):\n",
    "    def start(self):\n",
    "        print(\"Car engine started\")\n",
    "\n",
    "class Bicycle(Vehicle):\n",
    "    def start(self):\n",
    "        print(\"Pedaling the bicycle\")\n",
    "\n",
    "class Boat(Vehicle):\n",
    "    def start(self):\n",
    "        print(\"Boat engine started\")\n",
    "\n",
    "# Usage:\n",
    "car = Car()\n",
    "bicycle = Bicycle()\n",
    "boat = Boat()\n",
    "\n",
    "vehicles = [car, bicycle, boat]\n",
    "for vehicle in vehicles:\n",
    "    vehicle.start()"
   ]
  },
  {
   "cell_type": "markdown",
   "id": "3364db98-d068-4345-9257-134a83658c70",
   "metadata": {},
   "source": [
    "### 9. Explain the significance of the `isinstance()` and `issubclass()` functions in Python polymorphism."
   ]
  },
  {
   "cell_type": "markdown",
   "id": "9aa76ac0-cf55-43cd-9026-5ff28d56b567",
   "metadata": {
    "tags": []
   },
   "source": [
    "##### -isinstance() is a function in Python used to check if an object is an instance of a particular class or a tuple of classes. It is significant in polymorphism as it allows checking the type of an object before applying polymorphic behavior.\n",
    "\n",
    "##### -issubclass() is a function that checks whether a class is a subclass of another class or a tuple of classes. It is used to determine if a particular class can exhibit polymorphic behavior."
   ]
  },
  {
   "cell_type": "markdown",
   "id": "ad4c8244-f2b5-49d2-818b-2da3725a498b",
   "metadata": {},
   "source": [
    "### 10. What is the role of the `@abstractmethod` decorator in achieving polymorphism in Python? Provide an example."
   ]
  },
  {
   "cell_type": "markdown",
   "id": "3405680d-22fd-46a8-9953-9890ee0f642b",
   "metadata": {
    "tags": []
   },
   "source": [
    "##### The @abstractmethod decorator is used to declare abstract methods in abstract classes. Abstract methods provide a common interface that must be implemented by concrete subclasses, ensuring that polymorphism is achieved."
   ]
  },
  {
   "cell_type": "code",
   "execution_count": 28,
   "id": "c4fb73a5-efa8-4186-850b-0ccd4e0c45ef",
   "metadata": {},
   "outputs": [],
   "source": [
    "from abc import ABC, abstractmethod\n",
    "\n",
    "class Shape(ABC):\n",
    "    @abstractmethod\n",
    "    def calculate_area(self):\n",
    "        pass\n",
    "\n",
    "class Circle(Shape):\n",
    "    def __init__(self, radius):\n",
    "        self.radius = radius\n",
    "\n",
    "    def calculate_area(self):\n",
    "        return 3.14 * self.radius * self.radius\n",
    "\n",
    "class Square(Shape):\n",
    "    def __init__(self, side_length):\n",
    "        self.side_length = side_length\n",
    "\n",
    "    def calculate_area(self):\n",
    "        return self.side_length * self.side_length"
   ]
  },
  {
   "cell_type": "markdown",
   "id": "0423a41c-6f1b-4336-a263-d937d4610c3f",
   "metadata": {},
   "source": [
    "### 11. Create a Python class called `Shape` with a polymorphic method `area()` that calculates the area of different shapes (e.g., circle, rectangle, triangle)."
   ]
  },
  {
   "cell_type": "code",
   "execution_count": 29,
   "id": "8328486f-b655-4b4d-aa1e-1bcae00ed5ed",
   "metadata": {},
   "outputs": [],
   "source": [
    "class Shape:\n",
    "    def area(self):\n",
    "        pass\n",
    "\n",
    "class Circle(Shape):\n",
    "    def __init__(self, radius):\n",
    "        self.radius = radius\n",
    "\n",
    "    def area(self):\n",
    "        return 3.14 * self.radius * self.radius\n",
    "\n",
    "class Rectangle(Shape):\n",
    "    def __init__(self, length, width):\n",
    "        self.length = length\n",
    "        self.width = width\n",
    "\n",
    "    def area(self):\n",
    "        return self.length * self.width\n",
    "\n",
    "class Triangle(Shape):\n",
    "    def __init__(self, base, height):\n",
    "        self.base = base\n",
    "        self.height = height\n",
    "\n",
    "    def area(self):\n",
    "        return 0.5 * self.base * self.height"
   ]
  },
  {
   "cell_type": "markdown",
   "id": "abd76a4e-887e-4792-81e4-073e500ef0d0",
   "metadata": {},
   "source": [
    "### 12. Discuss the benefits of polymorphism in terms of code reusability and flexibility in Python programs."
   ]
  },
  {
   "cell_type": "markdown",
   "id": "db312094-2fdd-4cc9-9675-731fc495a2e6",
   "metadata": {
    "tags": []
   },
   "source": [
    "##### Polymorphism enhances code reusability by allowing the use of a common interface to work with different types of objects. It enables the development of flexible and extensible code that can easily accommodate new subclasses without modifying existing code."
   ]
  },
  {
   "cell_type": "markdown",
   "id": "3de28e8c-4cff-43fc-911b-5ff959110921",
   "metadata": {},
   "source": [
    "### 13. Explain the use of the `super()` function in Python polymorphism. How does it help call methods of parent classes?"
   ]
  },
  {
   "cell_type": "markdown",
   "id": "04ff57e7-b015-4ef7-a046-4ed6ef8fa1a4",
   "metadata": {
    "tags": []
   },
   "source": [
    "##### The super() function is used to call a method from a parent class in Python. It is often used in method overriding to invoke the overridden method in the parent class."
   ]
  },
  {
   "cell_type": "code",
   "execution_count": 30,
   "id": "48478437-288f-4c72-be09-9873d9921f72",
   "metadata": {},
   "outputs": [],
   "source": [
    "class Animal:\n",
    "    def speak(self):\n",
    "        print(\"Generic animal sound\")\n",
    "\n",
    "class Dog(Animal):\n",
    "    def speak(self):\n",
    "        super().speak()  # Call the speak method of the parent class\n",
    "        print(\"Bark\")"
   ]
  },
  {
   "cell_type": "markdown",
   "id": "f5932f1d-66c9-4e14-a62e-182f3d614089",
   "metadata": {},
   "source": [
    "### 14. Create a Python class hierarchy for a banking system with various account types (e.g., savings, checking, credit card) and demonstrate polymorphism by implementing a common `withdraw()` method."
   ]
  },
  {
   "cell_type": "code",
   "execution_count": 31,
   "id": "c5c682c8-f220-4f3d-8b50-8b88d06cdf37",
   "metadata": {},
   "outputs": [],
   "source": [
    "class BankAccount:\n",
    "    def __init__(self, balance):\n",
    "        self.balance = balance\n",
    "\n",
    "    def withdraw(self, amount):\n",
    "        pass\n",
    "\n",
    "class SavingsAccount(BankAccount):\n",
    "    def withdraw(self, amount):\n",
    "        if amount <= self.balance:\n",
    "            print(f\"Withdrawing {amount} from savings account.\")\n",
    "            self.balance -= amount\n",
    "        else:\n",
    "            print(\"Insufficient funds.\")\n",
    "\n",
    "class CheckingAccount(BankAccount):\n",
    "    def withdraw(self, amount):\n",
    "        if amount <= self.balance:\n",
    "            print(f\"Withdrawing {amount} from checking account.\")\n",
    "            self.balance -= amount\n",
    "        else:\n",
    "            print(\"Insufficient funds.\")\n",
    "\n",
    "class CreditCardAccount(BankAccount):\n",
    "    def withdraw(self, amount):\n",
    "        print(f\"Withdrawing {amount} from credit card account.\")\n",
    "        # Additional credit card processing logic here"
   ]
  },
  {
   "cell_type": "markdown",
   "id": "bca0b5c4-9fff-46b2-b234-fd77b8592117",
   "metadata": {},
   "source": [
    "### 15. Describe the concept of operator overloading in Python and how it relates to polymorphism. Provide examples using operators like `+` and `*`."
   ]
  },
  {
   "cell_type": "markdown",
   "id": "e6fffd0f-cee9-4448-9e53-d05ba3e02a4f",
   "metadata": {
    "tags": []
   },
   "source": [
    "##### Operator overloading allows the same operator to have different meanings depending on the context. It is related to polymorphism as it enables objects of different classes to respond to the same operator in a way that is appropriate for their class."
   ]
  },
  {
   "cell_type": "code",
   "execution_count": 32,
   "id": "abf53104-3a5a-43b5-9a66-4c38756a3179",
   "metadata": {},
   "outputs": [
    {
     "name": "stdout",
     "output_type": "stream",
     "text": [
      "Result: (4, 6)\n"
     ]
    }
   ],
   "source": [
    "class Point:\n",
    "    def __init__(self, x, y):\n",
    "        self.x = x\n",
    "        self.y = y\n",
    "\n",
    "    def __add__(self, other):\n",
    "        return Point(self.x + other.x, self.y + other.y)\n",
    "\n",
    "point1 = Point(1, 2)\n",
    "point2 = Point(3, 4)\n",
    "\n",
    "result = point1 + point2  # Uses the overloaded + operator\n",
    "print(f\"Result: ({result.x}, {result.y})\")"
   ]
  },
  {
   "cell_type": "markdown",
   "id": "ee841280-20da-4012-89ae-b645d442632b",
   "metadata": {},
   "source": [
    "### 16. What is dynamic polymorphism, and how is it achieved in Python?"
   ]
  },
  {
   "cell_type": "markdown",
   "id": "f863593a-8537-438a-b173-25f19e95d351",
   "metadata": {
    "tags": []
   },
   "source": [
    "##### Dynamic polymorphism refers to the ability of objects to exhibit different behaviors based on their actual types during runtime. It is achieved in Python through method overriding, where a subclass provides a specific implementation for a method that is already defined in its superclass."
   ]
  },
  {
   "cell_type": "markdown",
   "id": "f1147f32-bf06-414f-873a-4e512238cd36",
   "metadata": {},
   "source": [
    "### 17. Create a Python class hierarchy for employees in a company (e.g., manager, developer, designer) and implement polymorphism through a common `calculate_salary()` method."
   ]
  },
  {
   "cell_type": "code",
   "execution_count": 33,
   "id": "5ab4cb97-919c-4f30-b1b6-cfbd47583546",
   "metadata": {},
   "outputs": [],
   "source": [
    "class Employee:\n",
    "    def calculate_salary(self):\n",
    "        pass\n",
    "\n",
    "class Manager(Employee):\n",
    "    def calculate_salary(self):\n",
    "        return 80000  # Manager-specific salary calculation\n",
    "\n",
    "class Developer(Employee):\n",
    "    def calculate_salary(self):\n",
    "        return 60000  # Developer-specific salary calculation\n",
    "\n",
    "class Designer(Employee):\n",
    "    def calculate_salary(self):\n",
    "        return 70000  # Designer-specific salary calculation"
   ]
  },
  {
   "cell_type": "markdown",
   "id": "b960a92c-3cf3-4c14-b4b6-752c5cd295b7",
   "metadata": {},
   "source": [
    "### 18. Discuss the concept of function pointers and how they can be used to achieve polymorphism in Python."
   ]
  },
  {
   "cell_type": "markdown",
   "id": "718ff3bd-70c5-449b-ae0f-32f8786d4a14",
   "metadata": {},
   "source": [
    "##### In Python, there are no function pointers in the traditional sense. However, function objects can be used to achieve a similar effect. Polymorphism can be achieved by passing functions as arguments or storing them in data structures."
   ]
  },
  {
   "cell_type": "markdown",
   "id": "990eec89-ca39-42ab-83f2-317f291e1239",
   "metadata": {},
   "source": [
    "### 19. Explain the role of interfaces and abstract classes in polymorphism, drawing comparisons between them."
   ]
  },
  {
   "cell_type": "markdown",
   "id": "d16e26b7-4fb2-4493-b646-fa7991216b06",
   "metadata": {
    "tags": []
   },
   "source": [
    "##### In Python, interfaces are not explicitly defined, but the concept is achieved through abstract classes and abstract methods. Both abstract classes and interfaces provide a common interface that must be implemented by concrete subclasses. The main difference is that abstract classes can have both abstract and concrete methods, while interfaces only declare abstract methods."
   ]
  },
  {
   "cell_type": "markdown",
   "id": "eccc566a-e5b1-4b07-99a0-e949642cde91",
   "metadata": {},
   "source": [
    "### 20. Create a Python class for a zoo simulation, demonstrating polymorphism with different animal types (e.g., mamals,birds,reptiles) and their behavior (eg., eating, sleeping, making sounds)."
   ]
  },
  {
   "cell_type": "code",
   "execution_count": 34,
   "id": "c4dfc8dc-7e81-4d23-bb3f-57f3662ae099",
   "metadata": {},
   "outputs": [
    {
     "name": "stdout",
     "output_type": "stream",
     "text": [
      "=== Mammal ===\n",
      "Mammal makes a sound\n",
      "Mammal is eating\n",
      "Mammal is sleeping\n",
      "\n",
      "=== Bird ===\n",
      "Bird makes a sound\n",
      "Bird is eating\n",
      "Bird is sleeping\n",
      "\n",
      "=== Reptile ===\n",
      "Reptile makes a sound\n",
      "Reptile is eating\n",
      "Reptile is sleeping\n",
      "\n"
     ]
    }
   ],
   "source": [
    "class Animal:\n",
    "    def make_sound(self):\n",
    "        pass\n",
    "\n",
    "    def eat(self):\n",
    "        pass\n",
    "\n",
    "    def sleep(self):\n",
    "        pass\n",
    "\n",
    "class Mammal(Animal):\n",
    "    def make_sound(self):\n",
    "        print(\"Mammal makes a sound\")\n",
    "\n",
    "    def eat(self):\n",
    "        print(\"Mammal is eating\")\n",
    "\n",
    "    def sleep(self):\n",
    "        print(\"Mammal is sleeping\")\n",
    "\n",
    "class Bird(Animal):\n",
    "    def make_sound(self):\n",
    "        print(\"Bird makes a sound\")\n",
    "\n",
    "    def eat(self):\n",
    "        print(\"Bird is eating\")\n",
    "\n",
    "    def sleep(self):\n",
    "        print(\"Bird is sleeping\")\n",
    "\n",
    "class Reptile(Animal):\n",
    "    def make_sound(self):\n",
    "        print(\"Reptile makes a sound\")\n",
    "\n",
    "    def eat(self):\n",
    "        print(\"Reptile is eating\")\n",
    "\n",
    "    def sleep(self):\n",
    "        print(\"Reptile is sleeping\")\n",
    "\n",
    "# Usage:\n",
    "mammal = Mammal()\n",
    "bird = Bird()\n",
    "reptile = Reptile()\n",
    "\n",
    "zoo_animals = [mammal, bird, reptile]\n",
    "for animal in zoo_animals:\n",
    "    print(f\"=== {animal.__class__.__name__} ===\")\n",
    "    animal.make_sound()\n",
    "    animal.eat()\n",
    "    animal.sleep()\n",
    "    print()"
   ]
  },
  {
   "cell_type": "markdown",
   "id": "0950c97d-25bb-494e-8e07-e2a65b1ef0dc",
   "metadata": {},
   "source": [
    "## Abstraction:"
   ]
  },
  {
   "cell_type": "markdown",
   "id": "208fb2e5-2de4-466d-853e-2ae1111729a2",
   "metadata": {
    "tags": []
   },
   "source": [
    "### 1. What is abstraction in Python, and how does it relate to object-oriented programming?"
   ]
  },
  {
   "cell_type": "markdown",
   "id": "8ad05e01-0021-413c-8a68-4484a740bde5",
   "metadata": {},
   "source": [
    "##### Abstraction is a fundamental concept in object-oriented programming that involves simplifying complex systems by modeling classes based on the essential properties and behaviors relevant to the problem at hand. It allows developers to focus on high-level structures and ignore the details of implementation."
   ]
  },
  {
   "cell_type": "markdown",
   "id": "3af04e30-6ad3-46d4-863f-9ccfb2b6cf76",
   "metadata": {},
   "source": [
    "### 2. Describe the benefits of abstraction in terms of code organization and complexity reduction."
   ]
  },
  {
   "cell_type": "markdown",
   "id": "d4c8e691-2726-42b0-9276-53da6d7d078f",
   "metadata": {},
   "source": [
    "##### Abstraction helps organize code by creating a hierarchy of classes that represent real-world entities. It reduces complexity by hiding unnecessary details, exposing only what is relevant, and promoting a clear separation between interface and implementation."
   ]
  },
  {
   "cell_type": "markdown",
   "id": "0f9052e1-fb37-4a55-abae-2efee58aff63",
   "metadata": {},
   "source": [
    "### 3. Create a Python class called `Shape` with an abstract method `calculate_area()`. Then, create child classes (e.g., `Circle`, `Rectangle`) that implement the `calculate_area()` method. Provide an example of using these classes."
   ]
  },
  {
   "cell_type": "code",
   "execution_count": 57,
   "id": "d8db7538-12a7-411b-b98a-603fcdb62f88",
   "metadata": {},
   "outputs": [
    {
     "name": "stdout",
     "output_type": "stream",
     "text": [
      "Circle Area: 78.5\n",
      "Rectangle Area: 24\n"
     ]
    }
   ],
   "source": [
    "from abc import ABC, abstractmethod\n",
    "\n",
    "class Shape(ABC):\n",
    "    @abstractmethod\n",
    "    def calculate_area(self):\n",
    "        pass\n",
    "\n",
    "class Circle(Shape):\n",
    "    def __init__(self, radius):\n",
    "        self.radius = radius\n",
    "\n",
    "    def calculate_area(self):\n",
    "        return 3.14 * self.radius ** 2\n",
    "\n",
    "class Rectangle(Shape):\n",
    "    def __init__(self, length, width):\n",
    "        self.length = length\n",
    "        self.width = width\n",
    "\n",
    "    def calculate_area(self):\n",
    "        return self.length * self.width\n",
    "\n",
    "# Example usage:\n",
    "circle = Circle(radius=5)\n",
    "print(\"Circle Area:\", circle.calculate_area())\n",
    "\n",
    "rectangle = Rectangle(length=4, width=6)\n",
    "print(\"Rectangle Area:\", rectangle.calculate_area())"
   ]
  },
  {
   "cell_type": "markdown",
   "id": "1c94bff4-432e-4c1f-b5db-bd144208fb28",
   "metadata": {},
   "source": [
    "### 4. Explain the concept of abstract classes in Python and how they are defined using the `abc` module. Provide an example."
   ]
  },
  {
   "cell_type": "markdown",
   "id": "b24f4c86-bdce-489f-bfbd-588091143953",
   "metadata": {
    "tags": []
   },
   "source": [
    "##### Abstract classes in Python are classes that cannot be instantiated and may contain abstract methods. The abc module provides the ABC (Abstract Base Class) and abstractmethod decorators for defining abstract classes and methods, respectively."
   ]
  },
  {
   "cell_type": "code",
   "execution_count": 58,
   "id": "d375bf69-7f08-4fed-8edf-86f3010731fd",
   "metadata": {},
   "outputs": [
    {
     "name": "stdout",
     "output_type": "stream",
     "text": [
      "ConcreteClassExample is doing something\n"
     ]
    }
   ],
   "source": [
    "from abc import ABC, abstractmethod\n",
    "\n",
    "class AbstractClassExample(ABC):\n",
    "    @abstractmethod\n",
    "    def do_something(self):\n",
    "        pass\n",
    "\n",
    "class ConcreteClassExample(AbstractClassExample):\n",
    "    def do_something(self):\n",
    "        super().do_something()\n",
    "        print(\"ConcreteClassExample is doing something\")\n",
    "\n",
    "# This will raise an error since you can't instantiate an abstract class directly.\n",
    "# example = AbstractClassExample()\n",
    "\n",
    "concrete_example = ConcreteClassExample()\n",
    "concrete_example.do_something()"
   ]
  },
  {
   "cell_type": "markdown",
   "id": "f2c6055b-a20f-43a2-aa9f-a30e5776bc4d",
   "metadata": {},
   "source": [
    "### 5. How do abstract classes differ from regular classes in Python? Discuss their use cases."
   ]
  },
  {
   "cell_type": "markdown",
   "id": "477abadc-7dc2-41a5-8910-8c1b7175642b",
   "metadata": {
    "tags": []
   },
   "source": [
    "##### Abstract classes cannot be instantiated, and they may contain abstract methods that must be implemented by concrete subclasses. Regular classes, on the other hand, can be instantiated directly.\n",
    "- Use cases for abstract classes:\n",
    "\n",
    "##### 1.When you want to define a common interface for a group of related classes.\n",
    "##### 2.When you want to enforce that certain methods must be implemented by subclasses."
   ]
  },
  {
   "cell_type": "markdown",
   "id": "c9a9e482-f18e-46d2-9258-12c3f267eebe",
   "metadata": {},
   "source": [
    "### 6. Create a Python class for a bank account and demonstrate abstraction by hiding the account balance and providing methods to deposit and withdraw funds."
   ]
  },
  {
   "cell_type": "code",
   "execution_count": 59,
   "id": "0efdddfb-616f-4487-a9a2-b1241618937c",
   "metadata": {},
   "outputs": [
    {
     "name": "stdout",
     "output_type": "stream",
     "text": [
      "Deposited $1000. New balance: $1000\n",
      "Withdrew $500. New balance: $500\n"
     ]
    }
   ],
   "source": [
    "from abc import ABC, abstractmethod\n",
    "\n",
    "class BankAccount(ABC):\n",
    "    def __init__(self, account_number):\n",
    "        self.account_number = account_number\n",
    "        self._balance = 0  # Using a single underscore to indicate a protected attribute\n",
    "\n",
    "    @abstractmethod\n",
    "    def deposit(self, amount):\n",
    "        pass\n",
    "\n",
    "    @abstractmethod\n",
    "    def withdraw(self, amount):\n",
    "        pass\n",
    "\n",
    "class SavingsAccount(BankAccount):\n",
    "    def deposit(self, amount):\n",
    "        self._balance += amount\n",
    "        print(f\"Deposited ${amount}. New balance: ${self._balance}\")\n",
    "\n",
    "    def withdraw(self, amount):\n",
    "        if amount <= self._balance:\n",
    "            self._balance -= amount\n",
    "            print(f\"Withdrew ${amount}. New balance: ${self._balance}\")\n",
    "        else:\n",
    "            print(\"Insufficient funds.\")\n",
    "\n",
    "# Example usage:\n",
    "savings_account = SavingsAccount(account_number=\"12345\")\n",
    "savings_account.deposit(1000)\n",
    "savings_account.withdraw(500)"
   ]
  },
  {
   "cell_type": "markdown",
   "id": "e3d5c32a-3994-4089-979a-64296fec23ab",
   "metadata": {},
   "source": [
    "### 7. Discuss the concept of interface classes in Python and their role in achieving abstraction."
   ]
  },
  {
   "cell_type": "markdown",
   "id": "f56c02d7-3a73-4197-b1c9-42ebde90591f",
   "metadata": {
    "tags": []
   },
   "source": [
    "##### In Python, there is no strict concept of an interface class as in some other languages. However, the term is often used informally to refer to classes that define a set of methods that must be implemented by their subclasses. This concept aligns with the use of abstract classes and abstract methods in Python."
   ]
  },
  {
   "cell_type": "markdown",
   "id": "52501f09-19a7-4764-91bb-16bba6f55166",
   "metadata": {},
   "source": [
    "### 8. Create a Python class hierarchy for animals and implement abstraction by defining common methods (e.g., `eat()`, `sleep()`) in an abstract base class."
   ]
  },
  {
   "cell_type": "code",
   "execution_count": 60,
   "id": "8afb48cf-cd6f-4638-a260-31e7956473c8",
   "metadata": {},
   "outputs": [
    {
     "name": "stdout",
     "output_type": "stream",
     "text": [
      "Dog is eating\n",
      "Dog is sleeping\n",
      "Cat is eating\n",
      "Cat is sleeping\n"
     ]
    }
   ],
   "source": [
    "from abc import ABC, abstractmethod\n",
    "\n",
    "class Animal(ABC):\n",
    "    @abstractmethod\n",
    "    def eat(self):\n",
    "        pass\n",
    "\n",
    "    @abstractmethod\n",
    "    def sleep(self):\n",
    "        pass\n",
    "\n",
    "class Dog(Animal):\n",
    "    def eat(self):\n",
    "        print(\"Dog is eating\")\n",
    "\n",
    "    def sleep(self):\n",
    "        print(\"Dog is sleeping\")\n",
    "\n",
    "class Cat(Animal):\n",
    "    def eat(self):\n",
    "        print(\"Cat is eating\")\n",
    "\n",
    "    def sleep(self):\n",
    "        print(\"Cat is sleeping\")\n",
    "\n",
    "# Example usage:\n",
    "dog = Dog()\n",
    "dog.eat()\n",
    "dog.sleep()\n",
    "\n",
    "cat = Cat()\n",
    "cat.eat()\n",
    "cat.sleep()"
   ]
  },
  {
   "cell_type": "markdown",
   "id": "f87db918-5f88-43a5-b29c-7c907609b05f",
   "metadata": {},
   "source": [
    "### 9. Explain the significance of encapsulation in achieving abstraction. Provide examples."
   ]
  },
  {
   "cell_type": "markdown",
   "id": "f5f5026f-de07-4604-9fc0-3fd4bdd53a7c",
   "metadata": {},
   "source": [
    "##### Encapsulation involves bundling the data and methods that operate on the data into a single unit (a class), providing control over access to the internal state of an object. Encapsulation plays a crucial role in achieving abstraction by hiding the implementation details and exposing only what is necessary."
   ]
  },
  {
   "cell_type": "code",
   "execution_count": 61,
   "id": "d1ff9650-41f9-4509-a493-e92cec0d08c4",
   "metadata": {},
   "outputs": [
    {
     "name": "stdout",
     "output_type": "stream",
     "text": [
      "Current temperature: 1\n"
     ]
    }
   ],
   "source": [
    "class TemperatureSensor:\n",
    "    def __init__(self):\n",
    "        self._temperature = 0  # Using a single underscore to indicate a protected attribute\n",
    "\n",
    "    def measure_temperature(self):\n",
    "        # Simulate temperature measurement (actual implementation details are hidden)\n",
    "        self._temperature += 1\n",
    "        return self._temperature\n",
    "\n",
    "# Example usage:\n",
    "sensor = TemperatureSensor()\n",
    "current_temperature = sensor.measure_temperature()\n",
    "print(f\"Current temperature: {current_temperature}\")"
   ]
  },
  {
   "cell_type": "markdown",
   "id": "7d470a34-b0dc-4112-9b74-0db392f9e2f8",
   "metadata": {},
   "source": [
    "### 10. What is the purpose of abstract methods, and how do they enforce abstraction in Python classes?"
   ]
  },
  {
   "cell_type": "markdown",
   "id": "a2eb4acf-4511-4380-8944-624b27c976fc",
   "metadata": {
    "tags": []
   },
   "source": [
    "##### Abstract methods in Python classes are methods declared in an abstract class but do not have an implementation. They serve the purpose of defining a common interface that concrete subclasses must implement. Abstract methods enforce abstraction by ensuring that concrete subclasses provide specific functionality."
   ]
  },
  {
   "cell_type": "markdown",
   "id": "4524ac79-e851-4986-b35a-241ab94cf33d",
   "metadata": {
    "tags": []
   },
   "source": [
    "### 11. Create a Python class for a vehicle system and demonstrate abstraction by defining common methods (e.g., `start()`, `stop()`) in an abstract base class."
   ]
  },
  {
   "cell_type": "code",
   "execution_count": 62,
   "id": "0ce5f6b5-b27b-4822-aa03-a1f54e54900a",
   "metadata": {},
   "outputs": [
    {
     "name": "stdout",
     "output_type": "stream",
     "text": [
      "Car started\n",
      "Car stopped\n",
      "Bicycle started\n",
      "Bicycle stopped\n"
     ]
    }
   ],
   "source": [
    "from abc import ABC, abstractmethod\n",
    "\n",
    "class Vehicle(ABC):\n",
    "    @abstractmethod\n",
    "    def start(self):\n",
    "        pass\n",
    "\n",
    "    @abstractmethod\n",
    "    def stop(self):\n",
    "        pass\n",
    "\n",
    "class Car(Vehicle):\n",
    "    def start(self):\n",
    "        print(\"Car started\")\n",
    "\n",
    "    def stop(self):\n",
    "        print(\"Car stopped\")\n",
    "\n",
    "class Bicycle(Vehicle):\n",
    "    def start(self):\n",
    "        print(\"Bicycle started\")\n",
    "\n",
    "    def stop(self):\n",
    "        print(\"Bicycle stopped\")\n",
    "\n",
    "# Example usage:\n",
    "car = Car()\n",
    "car.start()\n",
    "car.stop()\n",
    "\n",
    "bicycle = Bicycle()\n",
    "bicycle.start()\n",
    "bicycle.stop()"
   ]
  },
  {
   "cell_type": "markdown",
   "id": "d5f9a8b6-2cdc-4495-81b4-ef2b4b4c6ad3",
   "metadata": {},
   "source": [
    "### 12. Describe the use of abstract properties in Python and how they can be employed in abstract classes."
   ]
  },
  {
   "cell_type": "markdown",
   "id": "30fce99b-b17e-4d8a-8a2f-c830dbbc4331",
   "metadata": {},
   "source": [
    "##### Abstract properties in Python are properties declared in an abstract class without a concrete implementation. They can be used to define attributes that must be implemented by concrete subclasses."
   ]
  },
  {
   "cell_type": "code",
   "execution_count": 63,
   "id": "5a902b92-e8ed-497d-8f6d-8553c5665e8e",
   "metadata": {},
   "outputs": [
    {
     "name": "stdout",
     "output_type": "stream",
     "text": [
      "Circle Area: 78.5\n",
      "Rectangle Area: 24\n"
     ]
    }
   ],
   "source": [
    "from abc import ABC, abstractmethod\n",
    "\n",
    "class Shape(ABC):\n",
    "    @property\n",
    "    @abstractmethod\n",
    "    def area(self):\n",
    "        pass\n",
    "\n",
    "class Circle(Shape):\n",
    "    def __init__(self, radius):\n",
    "        self._radius = radius\n",
    "\n",
    "    @property\n",
    "    def area(self):\n",
    "        return 3.14 * self._radius ** 2\n",
    "\n",
    "class Rectangle(Shape):\n",
    "    def __init__(self, length, width):\n",
    "        self._length = length\n",
    "        self._width = width\n",
    "\n",
    "    @property\n",
    "    def area(self):\n",
    "        return self._length * self._width\n",
    "\n",
    "# Example usage:\n",
    "circle = Circle(radius=5)\n",
    "print(\"Circle Area:\", circle.area)\n",
    "\n",
    "rectangle = Rectangle(length=4, width=6)\n",
    "print(\"Rectangle Area:\", rectangle.area)"
   ]
  },
  {
   "cell_type": "markdown",
   "id": "dd584db3-79ce-45a9-88ef-812f0feaa9e5",
   "metadata": {},
   "source": [
    "### 13. Create a Python class hierarchy for employees in a company (e.g., manager, developer, designer) and implement abstraction by defining a common `get_salary()` method."
   ]
  },
  {
   "cell_type": "code",
   "execution_count": 64,
   "id": "ca56cc2e-7e57-43ff-8a34-fcaf687d6b0c",
   "metadata": {},
   "outputs": [
    {
     "name": "stdout",
     "output_type": "stream",
     "text": [
      "John Doe's Salary: $60000\n",
      "Alice Smith's Salary: $50000\n",
      "Bob Johnson's Salary: $55000\n"
     ]
    }
   ],
   "source": [
    "from abc import ABC, abstractmethod\n",
    "\n",
    "class Employee(ABC):\n",
    "    def __init__(self, name):\n",
    "        self.name = name\n",
    "\n",
    "    @abstractmethod\n",
    "    def get_salary(self):\n",
    "        pass\n",
    "\n",
    "class Manager(Employee):\n",
    "    def get_salary(self):\n",
    "        return 60000  # Manager's salary\n",
    "\n",
    "class Developer(Employee):\n",
    "    def get_salary(self):\n",
    "        return 50000  # Developer's salary\n",
    "\n",
    "class Designer(Employee):\n",
    "    def get_salary(self):\n",
    "        return 55000  # Designer's salary\n",
    "\n",
    "# Example usage:\n",
    "manager = Manager(name=\"John Doe\")\n",
    "print(f\"{manager.name}'s Salary: ${manager.get_salary()}\")\n",
    "\n",
    "developer = Developer(name=\"Alice Smith\")\n",
    "print(f\"{developer.name}'s Salary: ${developer.get_salary()}\")\n",
    "\n",
    "designer = Designer(name=\"Bob Johnson\")\n",
    "print(f\"{designer.name}'s Salary: ${designer.get_salary()}\")"
   ]
  },
  {
   "cell_type": "markdown",
   "id": "ebad1b9b-b234-47ee-baca-0deb40882a92",
   "metadata": {},
   "source": [
    "### 14. Discuss the differences between abstract classes and concrete classes in Python, including their instantiation."
   ]
  },
  {
   "cell_type": "markdown",
   "id": "440d3877-8d49-4bad-ae95-3f424ed01ab5",
   "metadata": {
    "tags": []
   },
   "source": [
    "##### Abstract classes cannot be instantiated directly; they are meant to be subclassed. Concrete classes, on the other hand, can be instantiated directly and provide concrete implementations for all methods and attributes."
   ]
  },
  {
   "cell_type": "markdown",
   "id": "b8cda9a1-3777-4335-ae7a-6ce433d080ef",
   "metadata": {},
   "source": [
    "### 15. Explain the concept of abstract data types (ADTs) and their role in achieving abstraction in Python."
   ]
  },
  {
   "cell_type": "markdown",
   "id": "25941d45-4215-4a28-a3f4-dce6be238545",
   "metadata": {},
   "source": [
    "##### Abstract Data Types (ADTs) are high-level descriptions of sets of operations that can be performed on a data structure, independent of the specific implementation. They play a role in achieving abstraction by providing a clear and abstract interface for interacting with data structures."
   ]
  },
  {
   "cell_type": "markdown",
   "id": "38332b88-7764-4799-a8e0-003fba375701",
   "metadata": {},
   "source": [
    "### 16. Create a Python class for a computer system, demonstrating abstraction by defining common methods (e.g., `power_on()`, `shutdown()`) in an abstract base class."
   ]
  },
  {
   "cell_type": "code",
   "execution_count": 65,
   "id": "00a4914a-512b-4b21-a48f-ac3a94477279",
   "metadata": {},
   "outputs": [
    {
     "name": "stdout",
     "output_type": "stream",
     "text": [
      "Laptop powered on\n",
      "Laptop shut down\n",
      "Desktop powered on\n",
      "Desktop shut down\n"
     ]
    }
   ],
   "source": [
    "from abc import ABC, abstractmethod\n",
    "\n",
    "class Computer(ABC):\n",
    "    @abstractmethod\n",
    "    def power_on(self):\n",
    "        pass\n",
    "\n",
    "    @abstractmethod\n",
    "    def shutdown(self):\n",
    "        pass\n",
    "\n",
    "class Laptop(Computer):\n",
    "    def power_on(self):\n",
    "        print(\"Laptop powered on\")\n",
    "\n",
    "    def shutdown(self):\n",
    "        print(\"Laptop shut down\")\n",
    "\n",
    "class Desktop(Computer):\n",
    "    def power_on(self):\n",
    "        print(\"Desktop powered on\")\n",
    "\n",
    "    def shutdown(self):\n",
    "        print(\"Desktop shut down\")\n",
    "\n",
    "# Example usage:\n",
    "laptop = Laptop()\n",
    "laptop.power_on()\n",
    "laptop.shutdown()\n",
    "\n",
    "desktop = Desktop()\n",
    "desktop.power_on()\n",
    "desktop.shutdown()"
   ]
  },
  {
   "cell_type": "markdown",
   "id": "4d01c6b7-0aa5-4fb7-bd93-bd81286efd6c",
   "metadata": {},
   "source": [
    "### 17. Discuss the benefits of using abstraction in large-scale software development projects."
   ]
  },
  {
   "cell_type": "markdown",
   "id": "2981841b-6087-40c0-b0a4-3e6f8fbd7087",
   "metadata": {
    "tags": []
   },
   "source": [
    "- Modularity: Abstraction promotes modular design by breaking down complex systems into manageable and independent modules or classes.\n",
    "- Code Reusability: Abstract classes and interfaces provide reusable blueprints for creating similar objects with consistent interfaces.\n",
    "- Scalability: Abstraction allows developers to scale the complexity of a project by focusing on high-level design without getting bogged down in implementation details.\n",
    "- Maintenance: Changes in implementation details do not affect the external interface, making it easier to maintain and update code."
   ]
  },
  {
   "cell_type": "markdown",
   "id": "dbda0d43-4e8e-4943-acff-a4d348ca6419",
   "metadata": {},
   "source": [
    "### 18. Explain how abstraction enhances code reusability and modularity in Python programs."
   ]
  },
  {
   "cell_type": "markdown",
   "id": "62ce3aef-3174-49d3-a30d-05d95655cfa3",
   "metadata": {
    "tags": []
   },
   "source": [
    "- Abstraction enhances code reusability and modularity by providing clear interfaces that allow components (classes or modules) to interact without detailed knowledge of each other's implementations. This separation of concerns allows for the reuse of abstract classes and interfaces in different parts of a program, promoting modular and maintainable code."
   ]
  },
  {
   "cell_type": "markdown",
   "id": "f55fb0fb-8377-4929-89c9-aa0b73a79f42",
   "metadata": {},
   "source": [
    "### 19. Create a Python class for a library system, implementing abstraction by defining common methods (e.g., `add_book()`, `borrow_book()`) in an abstract base class."
   ]
  },
  {
   "cell_type": "code",
   "execution_count": 66,
   "id": "f07207ca-8e94-4bbb-bf05-e65c8b4dcb0e",
   "metadata": {},
   "outputs": [
    {
     "name": "stdout",
     "output_type": "stream",
     "text": [
      "Book 'Introduction to Python' by John Doe added to the library.\n",
      "Book 'Introduction to Python' borrowed from the library.\n"
     ]
    }
   ],
   "source": [
    "from abc import ABC, abstractmethod\n",
    "\n",
    "class LibrarySystem(ABC):\n",
    "    @abstractmethod\n",
    "    def add_book(self, title, author):\n",
    "        pass\n",
    "\n",
    "    @abstractmethod\n",
    "    def borrow_book(self, title):\n",
    "        pass\n",
    "\n",
    "class Library(LibrarySystem):\n",
    "    def __init__(self):\n",
    "        self.books = {}\n",
    "\n",
    "    def add_book(self, title, author):\n",
    "        if title not in self.books:\n",
    "            self.books[title] = author\n",
    "            print(f\"Book '{title}' by {author} added to the library.\")\n",
    "        else:\n",
    "            print(f\"Book '{title}' already exists in the library.\")\n",
    "\n",
    "    def borrow_book(self, title):\n",
    "        if title in self.books:\n",
    "            print(f\"Book '{title}' borrowed from the library.\")\n",
    "        else:\n",
    "            print(f\"Book '{title}' not found in the library.\")\n",
    "\n",
    "# Example usage:\n",
    "library = Library()\n",
    "library.add_book(\"Introduction to Python\", \"John Doe\")\n",
    "library.borrow_book(\"Introduction to Python\")"
   ]
  },
  {
   "cell_type": "markdown",
   "id": "2c313b93-2a78-4a9b-8833-630fcb276657",
   "metadata": {},
   "source": [
    "### 20. Describe the concept of method abstraction in Python and how it relates to polymorphism."
   ]
  },
  {
   "cell_type": "markdown",
   "id": "9628dbc5-e9ae-42de-9d77-abd0e304904d",
   "metadata": {
    "tags": []
   },
   "source": [
    "- Method abstraction in Python involves defining methods in a way that allows them to be used interchangeably across different classes or objects. This relates to polymorphism, where objects of different types can be treated as objects of a common base type."
   ]
  },
  {
   "cell_type": "code",
   "execution_count": 67,
   "id": "394427ef-44ce-4fe8-ab2a-1aa93f6f7520",
   "metadata": {},
   "outputs": [
    {
     "name": "stdout",
     "output_type": "stream",
     "text": [
      "Drawing a circle\n",
      "Drawing a rectangle\n"
     ]
    }
   ],
   "source": [
    "class Shape:\n",
    "    def draw(self):\n",
    "        pass\n",
    "\n",
    "class Circle(Shape):\n",
    "    def draw(self):\n",
    "        print(\"Drawing a circle\")\n",
    "\n",
    "class Rectangle(Shape):\n",
    "    def draw(self):\n",
    "        print(\"Drawing a rectangle\")\n",
    "\n",
    "# Example usage:\n",
    "shapes = [Circle(), Rectangle()]\n",
    "\n",
    "for shape in shapes:\n",
    "    shape.draw()"
   ]
  },
  {
   "cell_type": "markdown",
   "id": "c93888fd-e2a7-48e6-b72e-4d064aed93ac",
   "metadata": {},
   "source": [
    "## Composition:"
   ]
  },
  {
   "cell_type": "markdown",
   "id": "bad2327f-c2a5-4d51-9ad9-b92e59470559",
   "metadata": {},
   "source": [
    "### 1. Explain the concept of composition in Python and how it is used to build complex objects from simpler ones."
   ]
  },
  {
   "cell_type": "markdown",
   "id": "b891c15c-e278-4125-a416-e1e20caf7f69",
   "metadata": {
    "tags": []
   },
   "source": [
    "##### Composition is a concept in object-oriented programming where a class includes objects of other classes to create more complex objects. It involves creating relationships between classes by combining instances of one class within another. This allows for building complex objects by composing simpler ones, promoting code reuse and flexibility."
   ]
  },
  {
   "cell_type": "markdown",
   "id": "f5e89da4-353f-4650-90e0-cf5484fbd067",
   "metadata": {},
   "source": [
    "### 2. Describe the difference between composition and inheritance in object-oriented programming."
   ]
  },
  {
   "cell_type": "markdown",
   "id": "ee6f8195-eb21-4f13-ad46-425cc96f4088",
   "metadata": {
    "tags": []
   },
   "source": [
    "- Composition: Involves creating relationships between classes by combining instances of one class within another. It's a \"has-a\" relationship, where one class contains an object of another class.\n",
    "- Inheritance: Involves creating a new class that is a modified version of an existing class. It's an \"is-a\" relationship, where a subclass inherits attributes and behaviors from a superclass."
   ]
  },
  {
   "cell_type": "markdown",
   "id": "a7e9139f-d32c-415a-b713-93d1f9daae35",
   "metadata": {},
   "source": [
    "### 3. Create a Python class called `Author` with attributes for name and birthdate. Then, create a `Book` class that contains an instance of `Author` as a composition. Provide an example of creating a `Book` object."
   ]
  },
  {
   "cell_type": "code",
   "execution_count": 93,
   "id": "90883d72-ec2f-474a-b05d-f25cf9b2962a",
   "metadata": {},
   "outputs": [
    {
     "name": "stdout",
     "output_type": "stream",
     "text": [
      "Book Title: Python Basics\n",
      "Author: Aman Kumar\n",
      "Author Birthdate: October 10, 1999\n"
     ]
    }
   ],
   "source": [
    "class Author:\n",
    "    def __init__(self, name, birthdate):\n",
    "        self.name = name\n",
    "        self.birthdate = birthdate\n",
    "\n",
    "class Book:\n",
    "    def __init__(self, title, author):\n",
    "        self.title = title\n",
    "        self.author = author\n",
    "\n",
    "# Example usage:\n",
    "author = Author(\"Aman Kumar\", \"October 10, 1999\")\n",
    "book = Book(\"Python Basics\", author)\n",
    "\n",
    "print(f\"Book Title: {book.title}\")\n",
    "print(f\"Author: {book.author.name}\")\n",
    "print(f\"Author Birthdate: {book.author.birthdate}\")"
   ]
  },
  {
   "cell_type": "markdown",
   "id": "610fee7d-bbe2-4a17-ab41-72ac81247360",
   "metadata": {},
   "source": [
    "### 4. Discuss the benefits of using composition over inheritance in Python, especially in terms of code flexibility and reusability."
   ]
  },
  {
   "cell_type": "markdown",
   "id": "cb034b4e-c362-4063-a216-e7d3a1863413",
   "metadata": {
    "tags": []
   },
   "source": [
    "- Flexibility: Composition allows for more flexible and dynamic relationships between classes. Changes in one class do not affect the other classes involved in composition.\n",
    "- Code Reusability: Composition promotes code reusability by allowing the reuse of classes in different contexts, providing a modular and maintainable code structure."
   ]
  },
  {
   "cell_type": "markdown",
   "id": "3d6adad5-7b55-4dae-8d32-b2c03f98a46b",
   "metadata": {},
   "source": [
    "### 5. How can you implement composition in Python classes? Provide examples of using composition to create complex objects."
   ]
  },
  {
   "cell_type": "markdown",
   "id": "cf45ef25-f31e-4ea8-9351-3001e62114aa",
   "metadata": {
    "tags": []
   },
   "source": [
    "- Composition is implemented by including instances of other classes as attributes in a class. \n",
    "- Here's an example:"
   ]
  },
  {
   "cell_type": "code",
   "execution_count": 94,
   "id": "cb847970-4457-4092-bacd-380aebde3d1a",
   "metadata": {},
   "outputs": [
    {
     "name": "stdout",
     "output_type": "stream",
     "text": [
      "Engine started\n"
     ]
    }
   ],
   "source": [
    "class Engine:\n",
    "    def start(self):\n",
    "        print(\"Engine started\")\n",
    "\n",
    "class Car:\n",
    "    def __init__(self):\n",
    "        self.engine = Engine()\n",
    "\n",
    "# Example usage:\n",
    "my_car = Car()\n",
    "my_car.engine.start()"
   ]
  },
  {
   "cell_type": "markdown",
   "id": "a5b73c07-16a1-43d3-a8b0-7d84230f2946",
   "metadata": {},
   "source": [
    "### 6. Create a Python class hierarchy for a music player system, using composition to represent playlists and songs."
   ]
  },
  {
   "cell_type": "code",
   "execution_count": 95,
   "id": "53ae4516-f508-4e42-9980-4f3f12d0afc5",
   "metadata": {},
   "outputs": [],
   "source": [
    "class Song:\n",
    "    def __init__(self, title, artist):\n",
    "        self.title = title\n",
    "        self.artist = artist\n",
    "\n",
    "class Playlist:\n",
    "    def __init__(self, name):\n",
    "        self.name = name\n",
    "        self.songs = []\n",
    "\n",
    "    def add_song(self, song):\n",
    "        self.songs.append(song)\n",
    "\n",
    "# Example usage:\n",
    "song1 = Song(\"Song1\", \"Artist1\")\n",
    "song2 = Song(\"Song2\", \"Artist2\")\n",
    "\n",
    "playlist = Playlist(\"MyPlaylist\")\n",
    "playlist.add_song(song1)\n",
    "playlist.add_song(song2)"
   ]
  },
  {
   "cell_type": "markdown",
   "id": "0d9c2190-f855-4c76-86bf-179bfe9b42d6",
   "metadata": {},
   "source": [
    "### 7. Explain the concept of \"has-a\" relationships in composition and how it helps design software systems."
   ]
  },
  {
   "cell_type": "markdown",
   "id": "b03d3ea7-324d-42bd-a2a6-b0d341b837c8",
   "metadata": {
    "tags": []
   },
   "source": [
    "- \"Has-a\" relationship in composition signifies that one class has another class as a component. This allows for building complex systems by combining simpler, reusable components."
   ]
  },
  {
   "cell_type": "markdown",
   "id": "6686c457-d50f-401a-ab96-decb1ed5f711",
   "metadata": {},
   "source": [
    "### 8. Create a Python class for a computer system, using composition to represent components like CPU, RAM, and storage devices."
   ]
  },
  {
   "cell_type": "code",
   "execution_count": 96,
   "id": "88b3d9b2-01ec-4b05-a686-932878744ce4",
   "metadata": {},
   "outputs": [
    {
     "name": "stdout",
     "output_type": "stream",
     "text": [
      "Processing data\n",
      "Storing data in RAM\n",
      "Saving data to storage\n"
     ]
    }
   ],
   "source": [
    "class CPU:\n",
    "    def process_data(self):\n",
    "        print(\"Processing data\")\n",
    "\n",
    "class RAM:\n",
    "    def store_data(self):\n",
    "        print(\"Storing data in RAM\")\n",
    "\n",
    "class Storage:\n",
    "    def save_data(self):\n",
    "        print(\"Saving data to storage\")\n",
    "\n",
    "class Computer:\n",
    "    def __init__(self):\n",
    "        self.cpu = CPU()\n",
    "        self.ram = RAM()\n",
    "        self.storage = Storage()\n",
    "\n",
    "# Example usage:\n",
    "my_computer = Computer()\n",
    "my_computer.cpu.process_data()\n",
    "my_computer.ram.store_data()\n",
    "my_computer.storage.save_data()"
   ]
  },
  {
   "cell_type": "markdown",
   "id": "1afa0c33-3892-419a-8e75-8e7b07b9095b",
   "metadata": {},
   "source": [
    "### 9. Describe the concept of \"delegation\" in composition and how it simplifies the design of complex systems."
   ]
  },
  {
   "cell_type": "markdown",
   "id": "7eb9eeac-9e1d-4981-a411-df085ce85d6a",
   "metadata": {},
   "source": [
    "- Delegation in composition involves assigning responsibilities to other classes. It simplifies complex systems by allowing each class to focus on a specific functionality, promoting maintainability and readability."
   ]
  },
  {
   "cell_type": "markdown",
   "id": "cd92abbc-dbf0-49ee-80d5-daceb2868cec",
   "metadata": {},
   "source": [
    "### 10. Create a Python class for a car, using composition to represent components like the engine, wheels, and transmission."
   ]
  },
  {
   "cell_type": "code",
   "execution_count": 97,
   "id": "a41c498c-9f99-415d-a780-9fd8793e5a4f",
   "metadata": {},
   "outputs": [
    {
     "name": "stdout",
     "output_type": "stream",
     "text": [
      "Engine started\n",
      "Wheels rolling\n",
      "Gear shifted\n"
     ]
    }
   ],
   "source": [
    "class Engine:\n",
    "    def start(self):\n",
    "        print(\"Engine started\")\n",
    "\n",
    "class Wheels:\n",
    "    def roll(self):\n",
    "        print(\"Wheels rolling\")\n",
    "\n",
    "class Transmission:\n",
    "    def shift_gear(self):\n",
    "        print(\"Gear shifted\")\n",
    "\n",
    "class Car:\n",
    "    def __init__(self):\n",
    "        self.engine = Engine()\n",
    "        self.wheels = Wheels()\n",
    "        self.transmission = Transmission()\n",
    "\n",
    "# Example usage:\n",
    "my_car = Car()\n",
    "my_car.engine.start()\n",
    "my_car.wheels.roll()\n",
    "my_car.transmission.shift_gear()"
   ]
  },
  {
   "cell_type": "markdown",
   "id": "9f2a8f9c-5b7b-4d56-a110-d68332f89d74",
   "metadata": {},
   "source": [
    "### 11. How can you encapsulate and hide the details of composed objects in Python classes to maintain abstraction?"
   ]
  },
  {
   "cell_type": "markdown",
   "id": "f21b3fc1-941c-4caf-89c0-b01f379d8735",
   "metadata": {
    "tags": []
   },
   "source": [
    "- You can encapsulate and hide the details of composed objects by providing appropriate methods in the class that owns the composition. These methods act as interfaces, abstracting the underlying complexity. Additionally, you can use private attributes or name mangling to hide the internal details of the composed objects."
   ]
  },
  {
   "cell_type": "markdown",
   "id": "e31dc7d2-c843-41e6-9fac-5e9bcb399d7b",
   "metadata": {},
   "source": [
    "### 12. Create a Python class for a university course, using composition to represent students, instructors, and course materials."
   ]
  },
  {
   "cell_type": "code",
   "execution_count": 100,
   "id": "5eb1c5e7-3454-4f95-bf87-25eabc0071e5",
   "metadata": {},
   "outputs": [],
   "source": [
    "class Student:\n",
    "    def __init__(self, name, student_id):\n",
    "        self.name = name\n",
    "        self.student_id = student_id\n",
    "\n",
    "class Instructor:\n",
    "    def __init__(self, name, instructor_id):\n",
    "        self.name = name\n",
    "        self.instructor_id = instructor_id\n",
    "\n",
    "class Course:\n",
    "    def __init__(self, course_name):\n",
    "        self.course_name = course_name\n",
    "        self.students = []\n",
    "        self.instructor = None\n",
    "\n",
    "    def add_student(self, student):\n",
    "        self.students.append(student)\n",
    "\n",
    "    def set_instructor(self, instructor):\n",
    "        self.instructor = instructor\n",
    "\n",
    "# Example usage:\n",
    "student1 = Student(\"Aman\", \"S101\")\n",
    "student2 = Student(\"Khushi\", \"S102\")\n",
    "instructor = Instructor(\"Dr. Smith\", \"I201\")\n",
    "\n",
    "math_course = Course(\"Math101\")\n",
    "math_course.add_student(student1)\n",
    "math_course.add_student(student2)\n",
    "math_course.set_instructor(instructor)"
   ]
  },
  {
   "cell_type": "markdown",
   "id": "c7826b43-51e2-4cb1-a685-c76d2dbe3502",
   "metadata": {},
   "source": [
    "### 13. Discuss the challenges and drawbacks of composition, such as increased complexity and potential for tight coupling between objects."
   ]
  },
  {
   "cell_type": "markdown",
   "id": "ce9e6922-4a69-4516-ab4d-5ba5571c1174",
   "metadata": {},
   "source": [
    "- Increased Complexity: As the number of composed objects increases, managing interactions and dependencies can become complex.\n",
    "- Tight Coupling: If not carefully designed, composition can lead to tight coupling between classes, reducing flexibility."
   ]
  },
  {
   "cell_type": "markdown",
   "id": "ec1d3f4a-ca4a-4dac-b57b-46fc74d9864f",
   "metadata": {},
   "source": [
    "### 14. Create a Python class hierarchy for a restaurant system, using composition to represent menus, dishes, and ingredients."
   ]
  },
  {
   "cell_type": "code",
   "execution_count": 99,
   "id": "0b765237-0e34-49f9-b66e-1051db75553c",
   "metadata": {},
   "outputs": [],
   "source": [
    "class Ingredient:\n",
    "    def __init__(self, name):\n",
    "        self.name = name\n",
    "\n",
    "class Dish:\n",
    "    def __init__(self, name, ingredients):\n",
    "        self.name = name\n",
    "        self.ingredients = ingredients\n",
    "\n",
    "class Menu:\n",
    "    def __init__(self, name, dishes):\n",
    "        self.name = name\n",
    "        self.dishes = dishes\n",
    "\n",
    "# Example usage:\n",
    "tomato = Ingredient(\"Tomato\")\n",
    "cheese = Ingredient(\"Cheese\")\n",
    "\n",
    "pizza = Dish(\"Pizza\", [tomato, cheese])\n",
    "pasta = Dish(\"Pasta\", [tomato])\n",
    "\n",
    "italian_menu = Menu(\"Italian Menu\", [pizza, pasta])"
   ]
  },
  {
   "cell_type": "markdown",
   "id": "f44d89ca-c74a-4110-9295-cd3940aac8e3",
   "metadata": {},
   "source": [
    "### 15. Explain how composition enhances code maintainability and modularity in Python programs."
   ]
  },
  {
   "cell_type": "markdown",
   "id": "58941b01-9544-459a-a24f-2da37935f6d5",
   "metadata": {
    "tags": []
   },
   "source": [
    "- Composition enhances maintainability by promoting modular design. Each class can focus on a specific responsibility, making it easier to understand, modify, and extend. Changes in one class do not necessarily affect others, improving code modularity."
   ]
  },
  {
   "cell_type": "markdown",
   "id": "d6e3db18-6975-4713-847b-e19f89d6ec21",
   "metadata": {},
   "source": [
    "### 16. Create a Python class for a computer game character, using composition to represent attributes like weapons, armor, and inventory."
   ]
  },
  {
   "cell_type": "code",
   "execution_count": 101,
   "id": "02d6c4ba-1006-4c6f-8368-f27ffbb771a7",
   "metadata": {},
   "outputs": [],
   "source": [
    "class Weapon:\n",
    "    def __init__(self, name, damage):\n",
    "        self.name = name\n",
    "        self.damage = damage\n",
    "\n",
    "class Armor:\n",
    "    def __init__(self, name, defense):\n",
    "        self.name = name\n",
    "        self.defense = defense\n",
    "\n",
    "class Inventory:\n",
    "    def __init__(self):\n",
    "        self.items = []\n",
    "\n",
    "class Character:\n",
    "    def __init__(self, name):\n",
    "        self.name = name\n",
    "        self.weapon = None\n",
    "        self.armor = None\n",
    "        self.inventory = Inventory()\n",
    "\n",
    "# Example usage:\n",
    "sword = Weapon(\"Sword\", 10)\n",
    "shield = Armor(\"Shield\", 5)\n",
    "\n",
    "player = Character(\"Hero\")\n",
    "player.weapon = sword\n",
    "player.armor = shield"
   ]
  },
  {
   "cell_type": "markdown",
   "id": "2730cb51-95ea-4b2a-ad5f-17b974803630",
   "metadata": {},
   "source": [
    "### 17. Describe the concept of \"aggregation\" in composition and how it differs from simple composition."
   ]
  },
  {
   "cell_type": "markdown",
   "id": "d68d8b15-c763-476e-b0b9-000f35629167",
   "metadata": {},
   "source": [
    "- Aggregation is a form of composition where objects have a \"has-a\" relationship, but the child object can exist independently of the parent. Unlike simple composition, aggregation suggests a weaker relationship, and the child object can be part of multiple parent objects without being tightly bound to them."
   ]
  },
  {
   "cell_type": "markdown",
   "id": "5859e649-3ed4-494b-961e-ed66fe8db5b4",
   "metadata": {},
   "source": [
    "### 18. Create a Python class for a house, using composition to represent rooms, furniture, and appliances."
   ]
  },
  {
   "cell_type": "code",
   "execution_count": 102,
   "id": "a3572e05-d5be-4683-9868-eb4ce16168b1",
   "metadata": {},
   "outputs": [],
   "source": [
    "class Furniture:\n",
    "    def __init__(self, name):\n",
    "        self.name = name\n",
    "\n",
    "class Appliance:\n",
    "    def __init__(self, name):\n",
    "        self.name = name\n",
    "\n",
    "class Room:\n",
    "    def __init__(self, name):\n",
    "        self.name = name\n",
    "        self.furniture = []\n",
    "        self.appliances = []\n",
    "\n",
    "class House:\n",
    "    def __init__(self):\n",
    "        self.rooms = []\n",
    "\n",
    "# Example usage:\n",
    "sofa = Furniture(\"Sofa\")\n",
    "fridge = Appliance(\"Fridge\")\n",
    "\n",
    "living_room = Room(\"Living Room\")\n",
    "living_room.furniture.append(sofa)\n",
    "living_room.appliances.append(fridge)\n",
    "\n",
    "my_house = House()\n",
    "my_house.rooms.append(living_room)"
   ]
  },
  {
   "cell_type": "markdown",
   "id": "fbb83769-7987-4078-b4fc-080d23994430",
   "metadata": {},
   "source": [
    "### 19. How can you achieve flexibility in composed objects by allowing them to be replaced or modified dynamically at runtime?"
   ]
  },
  {
   "cell_type": "markdown",
   "id": "5900b826-3685-43c0-849d-a777bbc09ba6",
   "metadata": {
    "tags": []
   },
   "source": [
    "- We can achieve flexibility by providing methods to dynamically add, remove, or replace composed objects. Using setter methods or modifying attributes at runtime allows for dynamic modification of composed objects."
   ]
  },
  {
   "cell_type": "markdown",
   "id": "6e9592a3-8224-4741-b552-3f869c0fcad3",
   "metadata": {},
   "source": [
    "### 20. Create a Python class for a social media application, using composition to represent users, posts, and comments."
   ]
  },
  {
   "cell_type": "code",
   "execution_count": 103,
   "id": "abe627d8-c621-4482-92e8-6e311ff00310",
   "metadata": {},
   "outputs": [],
   "source": [
    "class Post:\n",
    "    def __init__(self, content):\n",
    "        self.content = content\n",
    "        self.comments = []\n",
    "\n",
    "class Comment:\n",
    "    def __init__(self, text):\n",
    "        self.text = text\n",
    "\n",
    "class User:\n",
    "    def __init__(self, username):\n",
    "        self.username = username\n",
    "        self.posts = []\n",
    "\n",
    "class SocialMediaApp:\n",
    "    def __init__(self):\n",
    "        self.users = []\n",
    "        self.posts = []\n",
    "\n",
    "# Example usage:\n",
    "user1 = User(\"Alice\")\n",
    "user2 = User(\"Bob\")\n",
    "\n",
    "post1 = Post(\"Hello, world!\")\n",
    "post1.comments.append(Comment(\"Nice post!\"))\n",
    "\n",
    "user1.posts.append(post1)\n",
    "\n",
    "social_media_app = SocialMediaApp()\n",
    "social_media_app.users.extend([user1, user2])\n",
    "social_media_app.posts.append(post1)"
   ]
  },
  {
   "cell_type": "code",
   "execution_count": null,
   "id": "b76303d2-cd23-46a2-9775-181d1c52bfe0",
   "metadata": {},
   "outputs": [],
   "source": []
  }
 ],
 "metadata": {
  "kernelspec": {
   "display_name": "Python 3 (ipykernel)",
   "language": "python",
   "name": "python3"
  },
  "language_info": {
   "codemirror_mode": {
    "name": "ipython",
    "version": 3
   },
   "file_extension": ".py",
   "mimetype": "text/x-python",
   "name": "python",
   "nbconvert_exporter": "python",
   "pygments_lexer": "ipython3",
   "version": "3.10.8"
  }
 },
 "nbformat": 4,
 "nbformat_minor": 5
}
